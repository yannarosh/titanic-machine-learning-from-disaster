{
 "cells": [
  {
   "cell_type": "markdown",
   "id": "protected-consent",
   "metadata": {},
   "source": [
    "# Classification with Random Forest"
   ]
  },
  {
   "cell_type": "markdown",
   "id": "premium-failure",
   "metadata": {},
   "source": [
    "## Import the libraries"
   ]
  },
  {
   "cell_type": "code",
   "execution_count": 20,
   "id": "aggregate-iraqi",
   "metadata": {},
   "outputs": [],
   "source": [
    "import numpy as np\n",
    "import matplotlib.pyplot as plt\n",
    "import pandas as pd\n",
    "\n",
    "from sklearn.ensemble import RandomForestClassifier\n",
    "from sklearn.metrics import confusion_matrix, plot_confusion_matrix, accuracy_score\n",
    "from sklearn.model_selection import cross_val_score, RepeatedStratifiedKFold\n",
    "from sklearn.model_selection import GridSearchCV"
   ]
  },
  {
   "cell_type": "markdown",
   "id": "developmental-illinois",
   "metadata": {},
   "source": [
    "Set the rng seed."
   ]
  },
  {
   "cell_type": "code",
   "execution_count": 3,
   "id": "unnecessary-portugal",
   "metadata": {},
   "outputs": [],
   "source": [
    "seed = 17"
   ]
  },
  {
   "cell_type": "markdown",
   "id": "lesser-simon",
   "metadata": {},
   "source": [
    "## Import and view data"
   ]
  },
  {
   "cell_type": "code",
   "execution_count": 4,
   "id": "detected-athletics",
   "metadata": {},
   "outputs": [
    {
     "data": {
      "text/html": [
       "<div>\n",
       "<style scoped>\n",
       "    .dataframe tbody tr th:only-of-type {\n",
       "        vertical-align: middle;\n",
       "    }\n",
       "\n",
       "    .dataframe tbody tr th {\n",
       "        vertical-align: top;\n",
       "    }\n",
       "\n",
       "    .dataframe thead th {\n",
       "        text-align: right;\n",
       "    }\n",
       "</style>\n",
       "<table border=\"1\" class=\"dataframe\">\n",
       "  <thead>\n",
       "    <tr style=\"text-align: right;\">\n",
       "      <th></th>\n",
       "      <th>Survived</th>\n",
       "      <th>Pclass</th>\n",
       "      <th>Age</th>\n",
       "      <th>Fare</th>\n",
       "      <th>FamSize</th>\n",
       "      <th>Sex_male</th>\n",
       "      <th>Embarked_Q</th>\n",
       "      <th>Embarked_S</th>\n",
       "      <th>Title_Miss</th>\n",
       "      <th>Title_Mr</th>\n",
       "      <th>Title_Mrs</th>\n",
       "      <th>Title_Other</th>\n",
       "      <th>cabin_missing</th>\n",
       "    </tr>\n",
       "  </thead>\n",
       "  <tbody>\n",
       "    <tr>\n",
       "      <th>0</th>\n",
       "      <td>0.0</td>\n",
       "      <td>3.0</td>\n",
       "      <td>22.0</td>\n",
       "      <td>7.2500</td>\n",
       "      <td>1.0</td>\n",
       "      <td>1.0</td>\n",
       "      <td>0.0</td>\n",
       "      <td>1.0</td>\n",
       "      <td>0.0</td>\n",
       "      <td>1.0</td>\n",
       "      <td>0.0</td>\n",
       "      <td>0.0</td>\n",
       "      <td>1.0</td>\n",
       "    </tr>\n",
       "    <tr>\n",
       "      <th>1</th>\n",
       "      <td>1.0</td>\n",
       "      <td>1.0</td>\n",
       "      <td>38.0</td>\n",
       "      <td>71.2833</td>\n",
       "      <td>1.0</td>\n",
       "      <td>0.0</td>\n",
       "      <td>0.0</td>\n",
       "      <td>0.0</td>\n",
       "      <td>0.0</td>\n",
       "      <td>0.0</td>\n",
       "      <td>1.0</td>\n",
       "      <td>0.0</td>\n",
       "      <td>0.0</td>\n",
       "    </tr>\n",
       "    <tr>\n",
       "      <th>2</th>\n",
       "      <td>1.0</td>\n",
       "      <td>3.0</td>\n",
       "      <td>26.0</td>\n",
       "      <td>7.9250</td>\n",
       "      <td>0.0</td>\n",
       "      <td>0.0</td>\n",
       "      <td>0.0</td>\n",
       "      <td>1.0</td>\n",
       "      <td>1.0</td>\n",
       "      <td>0.0</td>\n",
       "      <td>0.0</td>\n",
       "      <td>0.0</td>\n",
       "      <td>1.0</td>\n",
       "    </tr>\n",
       "    <tr>\n",
       "      <th>3</th>\n",
       "      <td>1.0</td>\n",
       "      <td>1.0</td>\n",
       "      <td>35.0</td>\n",
       "      <td>53.1000</td>\n",
       "      <td>1.0</td>\n",
       "      <td>0.0</td>\n",
       "      <td>0.0</td>\n",
       "      <td>1.0</td>\n",
       "      <td>0.0</td>\n",
       "      <td>0.0</td>\n",
       "      <td>1.0</td>\n",
       "      <td>0.0</td>\n",
       "      <td>0.0</td>\n",
       "    </tr>\n",
       "    <tr>\n",
       "      <th>4</th>\n",
       "      <td>0.0</td>\n",
       "      <td>3.0</td>\n",
       "      <td>35.0</td>\n",
       "      <td>8.0500</td>\n",
       "      <td>0.0</td>\n",
       "      <td>1.0</td>\n",
       "      <td>0.0</td>\n",
       "      <td>1.0</td>\n",
       "      <td>0.0</td>\n",
       "      <td>1.0</td>\n",
       "      <td>0.0</td>\n",
       "      <td>0.0</td>\n",
       "      <td>1.0</td>\n",
       "    </tr>\n",
       "  </tbody>\n",
       "</table>\n",
       "</div>"
      ],
      "text/plain": [
       "   Survived  Pclass   Age     Fare  FamSize  Sex_male  Embarked_Q  Embarked_S  \\\n",
       "0       0.0     3.0  22.0   7.2500      1.0       1.0         0.0         1.0   \n",
       "1       1.0     1.0  38.0  71.2833      1.0       0.0         0.0         0.0   \n",
       "2       1.0     3.0  26.0   7.9250      0.0       0.0         0.0         1.0   \n",
       "3       1.0     1.0  35.0  53.1000      1.0       0.0         0.0         1.0   \n",
       "4       0.0     3.0  35.0   8.0500      0.0       1.0         0.0         1.0   \n",
       "\n",
       "   Title_Miss  Title_Mr  Title_Mrs  Title_Other  cabin_missing  \n",
       "0         0.0       1.0        0.0          0.0            1.0  \n",
       "1         0.0       0.0        1.0          0.0            0.0  \n",
       "2         1.0       0.0        0.0          0.0            1.0  \n",
       "3         0.0       0.0        1.0          0.0            0.0  \n",
       "4         0.0       1.0        0.0          0.0            1.0  "
      ]
     },
     "metadata": {},
     "output_type": "display_data"
    },
    {
     "name": "stdout",
     "output_type": "stream",
     "text": [
      "dims:  (891, 13)\n"
     ]
    }
   ],
   "source": [
    "df = pd.read_csv(\"data/train_prepd.csv\")\n",
    "display(df.head())\n",
    "print('dims: ', df.shape)"
   ]
  },
  {
   "cell_type": "markdown",
   "id": "previous-sphere",
   "metadata": {},
   "source": [
    "Data have already been preprocessed, as part of the EDA step. Including one-hot encoding and imputation of missing values."
   ]
  },
  {
   "cell_type": "markdown",
   "id": "recorded-sally",
   "metadata": {},
   "source": [
    "Split into dependent and independent variables."
   ]
  },
  {
   "cell_type": "code",
   "execution_count": 5,
   "id": "gorgeous-showcase",
   "metadata": {},
   "outputs": [],
   "source": [
    "X = df.iloc[:, 1:]\n",
    "y = df.iloc[:, 0]"
   ]
  },
  {
   "cell_type": "markdown",
   "id": "future-springer",
   "metadata": {},
   "source": [
    "## Build a preliminary classification tree"
   ]
  },
  {
   "cell_type": "markdown",
   "id": "optional-batch",
   "metadata": {},
   "source": [
    "Split into testing and training data."
   ]
  },
  {
   "cell_type": "markdown",
   "id": "gorgeous-center",
   "metadata": {},
   "source": [
    "Data are somewhat imbalanced (38% survived). We'll be using stratification in the train/test splits as well in our cross-validation later on."
   ]
  },
  {
   "cell_type": "code",
   "execution_count": 6,
   "id": "accompanied-inspector",
   "metadata": {},
   "outputs": [],
   "source": [
    "from sklearn.model_selection import train_test_split\n",
    "X_train, X_test, y_train, y_test = train_test_split(X, y, test_size = 0.2, stratify=y, random_state = seed)"
   ]
  },
  {
   "cell_type": "markdown",
   "id": "canadian-metropolitan",
   "metadata": {},
   "source": [
    "Build and train a simple random forest classifier. Use to predict test values."
   ]
  },
  {
   "cell_type": "code",
   "execution_count": 7,
   "id": "established-visit",
   "metadata": {},
   "outputs": [
    {
     "name": "stdout",
     "output_type": "stream",
     "text": [
      "Accuracy: 88.27 %\n"
     ]
    },
    {
     "data": {
      "text/plain": [
       "<sklearn.metrics._plot.confusion_matrix.ConfusionMatrixDisplay at 0x18779467460>"
      ]
     },
     "execution_count": 7,
     "metadata": {},
     "output_type": "execute_result"
    },
    {
     "data": {
      "image/png": "[encoded data removed]",
      "text/plain": [
       "<Figure size 432x288 with 2 Axes>"
      ]
     },
     "metadata": {
      "needs_background": "light"
     },
     "output_type": "display_data"
    }
   ],
   "source": [
    "# build the model shell and fit onto the training data.\n",
    "clf_prel = RandomForestClassifier(random_state=seed)\n",
    "clf_prel.fit(X_train, y_train)\n",
    "\n",
    "# predict\n",
    "y_pred = clf_prel.predict(X_test)\n",
    "\n",
    "# results\n",
    "acc = accuracy_score(y_test, y_pred)\n",
    "cm = confusion_matrix(y_test, y_pred)\n",
    "\n",
    "print('Accuracy: {:.2f} %'.format(acc * 100))\n",
    "plot_confusion_matrix(clf_prel, \n",
    "                     X_test,\n",
    "                     y_test, display_labels=['Did not survive', 'Survived'])"
   ]
  },
  {
   "cell_type": "markdown",
   "id": "timely-apparel",
   "metadata": {},
   "source": [
    "Use the model to predict training values in order to assess overfitting."
   ]
  },
  {
   "cell_type": "code",
   "execution_count": 8,
   "id": "favorite-serial",
   "metadata": {},
   "outputs": [
    {
     "name": "stdout",
     "output_type": "stream",
     "text": [
      "Accuracy: 99.58 %\n"
     ]
    },
    {
     "data": {
      "text/plain": [
       "<sklearn.metrics._plot.confusion_matrix.ConfusionMatrixDisplay at 0x18780903bb0>"
      ]
     },
     "execution_count": 8,
     "metadata": {},
     "output_type": "execute_result"
    },
    {
     "data": {
      "image/png": "[encoded data removed]",
      "text/plain": [
       "<Figure size 432x288 with 2 Axes>"
      ]
     },
     "metadata": {
      "needs_background": "light"
     },
     "output_type": "display_data"
    }
   ],
   "source": [
    "y_pred_tr = clf_prel.predict(X_train)\n",
    "\n",
    "acc = accuracy_score(y_train, y_pred_tr)\n",
    "cm = confusion_matrix(y_train, y_pred_tr)\n",
    "\n",
    "print('Accuracy: {:.2f} %'.format(acc * 100))\n",
    "plot_confusion_matrix(clf_prel, \n",
    "                     X_train,\n",
    "                     y_train, display_labels=['Did not survive', 'Survived'])"
   ]
  },
  {
   "cell_type": "markdown",
   "id": "mysterious-spice",
   "metadata": {},
   "source": [
    "Use repeated and stratified 10-fold cross validation to get a more robust estimate of the model's accuracy."
   ]
  },
  {
   "cell_type": "code",
   "execution_count": 13,
   "id": "silent-missile",
   "metadata": {},
   "outputs": [
    {
     "name": "stdout",
     "output_type": "stream",
     "text": [
      "scores:  [0.84444444 0.88764045 0.79775281 0.78651685 0.83146067 0.80898876\n",
      " 0.84269663 0.84269663 0.85393258 0.83146067 0.83333333 0.82022472\n",
      " 0.80898876 0.88764045 0.88764045 0.79775281 0.80898876 0.87640449\n",
      " 0.88764045 0.85393258 0.9        0.7752809  0.85393258 0.83146067\n",
      " 0.93258427 0.78651685 0.92134831 0.83146067 0.83146067 0.80898876\n",
      " 0.86666667 0.86516854 0.82022472 0.78651685 0.83146067 0.83146067\n",
      " 0.85393258 0.85393258 0.87640449 0.83146067 0.84444444 0.84269663\n",
      " 0.83146067 0.82022472 0.7752809  0.84269663 0.85393258 0.86516854\n",
      " 0.87640449 0.86516854]\n",
      "Accuracy: 84.20 %\n",
      "St.dev: 0.0351\n"
     ]
    }
   ],
   "source": [
    "# Create the cv tactic.\n",
    "cv_rep_str = RepeatedStratifiedKFold(n_splits=10, n_repeats=5, random_state=seed)\n",
    "\n",
    "# Get CV accuracy and st dev.\n",
    "scores = cross_val_score(clf_prel, X, y, cv=cv_rep_str)\n",
    "\n",
    "print('scores: ', scores )\n",
    "print('Accuracy: {:.2f} %'.format(scores.mean() * 100))\n",
    "print('St.dev: {:.4f}'.format(scores.std()))"
   ]
  },
  {
   "cell_type": "markdown",
   "id": "serial-flesh",
   "metadata": {},
   "source": [
    "## Hyper-parameter tuning"
   ]
  },
  {
   "cell_type": "markdown",
   "id": "recognized-leeds",
   "metadata": {},
   "source": [
    "Random forest tends to perform quite well out of the box. We will try tuning some of the hyper-parameters to see if we can get an increase in accuracy. We'll mostly try a couple different values for maximum tree depth to see if we can reduce overfitting."
   ]
  },
  {
   "cell_type": "code",
   "execution_count": 14,
   "id": "quantitative-clothing",
   "metadata": {},
   "outputs": [],
   "source": [
    "# Set up the hyper-parameter grid for Grid Search.\n",
    "\n",
    "params = {'max_features': ['sqrt'], \n",
    "        'criterion': ['gini', 'entropy'], \n",
    "        'max_depth': [2, 4, 6, 8, 10]}"
   ]
  },
  {
   "cell_type": "code",
   "execution_count": 15,
   "id": "interested-dominican",
   "metadata": {},
   "outputs": [
    {
     "data": {
      "text/html": [
       "<div>\n",
       "<style scoped>\n",
       "    .dataframe tbody tr th:only-of-type {\n",
       "        vertical-align: middle;\n",
       "    }\n",
       "\n",
       "    .dataframe tbody tr th {\n",
       "        vertical-align: top;\n",
       "    }\n",
       "\n",
       "    .dataframe thead th {\n",
       "        text-align: right;\n",
       "    }\n",
       "</style>\n",
       "<table border=\"1\" class=\"dataframe\">\n",
       "  <thead>\n",
       "    <tr style=\"text-align: right;\">\n",
       "      <th></th>\n",
       "      <th>mean_fit_time</th>\n",
       "      <th>std_fit_time</th>\n",
       "      <th>mean_score_time</th>\n",
       "      <th>std_score_time</th>\n",
       "      <th>param_criterion</th>\n",
       "      <th>param_max_depth</th>\n",
       "      <th>param_max_features</th>\n",
       "      <th>params</th>\n",
       "      <th>split0_test_score</th>\n",
       "      <th>split1_test_score</th>\n",
       "      <th>...</th>\n",
       "      <th>split3_test_score</th>\n",
       "      <th>split4_test_score</th>\n",
       "      <th>split5_test_score</th>\n",
       "      <th>split6_test_score</th>\n",
       "      <th>split7_test_score</th>\n",
       "      <th>split8_test_score</th>\n",
       "      <th>split9_test_score</th>\n",
       "      <th>mean_test_score</th>\n",
       "      <th>std_test_score</th>\n",
       "      <th>rank_test_score</th>\n",
       "    </tr>\n",
       "  </thead>\n",
       "  <tbody>\n",
       "    <tr>\n",
       "      <th>4</th>\n",
       "      <td>0.391556</td>\n",
       "      <td>0.021735</td>\n",
       "      <td>0.016615</td>\n",
       "      <td>0.019823</td>\n",
       "      <td>gini</td>\n",
       "      <td>10</td>\n",
       "      <td>sqrt</td>\n",
       "      <td>{'criterion': 'gini', 'max_depth': 10, 'max_fe...</td>\n",
       "      <td>0.833333</td>\n",
       "      <td>0.902778</td>\n",
       "      <td>...</td>\n",
       "      <td>0.887324</td>\n",
       "      <td>0.830986</td>\n",
       "      <td>0.830986</td>\n",
       "      <td>0.830986</td>\n",
       "      <td>0.816901</td>\n",
       "      <td>0.788732</td>\n",
       "      <td>0.901408</td>\n",
       "      <td>0.849667</td>\n",
       "      <td>0.036840</td>\n",
       "      <td>1</td>\n",
       "    </tr>\n",
       "    <tr>\n",
       "      <th>8</th>\n",
       "      <td>0.393358</td>\n",
       "      <td>0.024047</td>\n",
       "      <td>0.048844</td>\n",
       "      <td>0.031934</td>\n",
       "      <td>entropy</td>\n",
       "      <td>8</td>\n",
       "      <td>sqrt</td>\n",
       "      <td>{'criterion': 'entropy', 'max_depth': 8, 'max_...</td>\n",
       "      <td>0.833333</td>\n",
       "      <td>0.861111</td>\n",
       "      <td>...</td>\n",
       "      <td>0.887324</td>\n",
       "      <td>0.845070</td>\n",
       "      <td>0.845070</td>\n",
       "      <td>0.816901</td>\n",
       "      <td>0.830986</td>\n",
       "      <td>0.774648</td>\n",
       "      <td>0.915493</td>\n",
       "      <td>0.848318</td>\n",
       "      <td>0.037120</td>\n",
       "      <td>2</td>\n",
       "    </tr>\n",
       "    <tr>\n",
       "      <th>3</th>\n",
       "      <td>0.348216</td>\n",
       "      <td>0.015561</td>\n",
       "      <td>0.027125</td>\n",
       "      <td>0.027108</td>\n",
       "      <td>gini</td>\n",
       "      <td>8</td>\n",
       "      <td>sqrt</td>\n",
       "      <td>{'criterion': 'gini', 'max_depth': 8, 'max_fea...</td>\n",
       "      <td>0.847222</td>\n",
       "      <td>0.861111</td>\n",
       "      <td>...</td>\n",
       "      <td>0.873239</td>\n",
       "      <td>0.845070</td>\n",
       "      <td>0.859155</td>\n",
       "      <td>0.816901</td>\n",
       "      <td>0.830986</td>\n",
       "      <td>0.760563</td>\n",
       "      <td>0.901408</td>\n",
       "      <td>0.845481</td>\n",
       "      <td>0.035718</td>\n",
       "      <td>3</td>\n",
       "    </tr>\n",
       "  </tbody>\n",
       "</table>\n",
       "<p>3 rows × 21 columns</p>\n",
       "</div>"
      ],
      "text/plain": [
       "   mean_fit_time  std_fit_time  mean_score_time  std_score_time  \\\n",
       "4       0.391556      0.021735         0.016615        0.019823   \n",
       "8       0.393358      0.024047         0.048844        0.031934   \n",
       "3       0.348216      0.015561         0.027125        0.027108   \n",
       "\n",
       "  param_criterion param_max_depth param_max_features  \\\n",
       "4            gini              10               sqrt   \n",
       "8         entropy               8               sqrt   \n",
       "3            gini               8               sqrt   \n",
       "\n",
       "                                              params  split0_test_score  \\\n",
       "4  {'criterion': 'gini', 'max_depth': 10, 'max_fe...           0.833333   \n",
       "8  {'criterion': 'entropy', 'max_depth': 8, 'max_...           0.833333   \n",
       "3  {'criterion': 'gini', 'max_depth': 8, 'max_fea...           0.847222   \n",
       "\n",
       "   split1_test_score  ...  split3_test_score  split4_test_score  \\\n",
       "4           0.902778  ...           0.887324           0.830986   \n",
       "8           0.861111  ...           0.887324           0.845070   \n",
       "3           0.861111  ...           0.873239           0.845070   \n",
       "\n",
       "   split5_test_score  split6_test_score  split7_test_score  split8_test_score  \\\n",
       "4           0.830986           0.830986           0.816901           0.788732   \n",
       "8           0.845070           0.816901           0.830986           0.774648   \n",
       "3           0.859155           0.816901           0.830986           0.760563   \n",
       "\n",
       "   split9_test_score  mean_test_score  std_test_score  rank_test_score  \n",
       "4           0.901408         0.849667        0.036840                1  \n",
       "8           0.915493         0.848318        0.037120                2  \n",
       "3           0.901408         0.845481        0.035718                3  \n",
       "\n",
       "[3 rows x 21 columns]"
      ]
     },
     "metadata": {},
     "output_type": "display_data"
    },
    {
     "name": "stdout",
     "output_type": "stream",
     "text": [
      "best values of hyper-parameters {'criterion': 'gini', 'max_depth': 10, 'max_features': 'sqrt'}\n"
     ]
    }
   ],
   "source": [
    "# build the shell model and fit on training data.\n",
    "clf = RandomForestClassifier(random_state=seed)\n",
    "gs = GridSearchCV(estimator=clf, param_grid=params, n_jobs=-1, cv=10)\n",
    "gs.fit(X_train, y_train)\n",
    "\n",
    "# print the best models and hyper-parameters\n",
    "results = gs.cv_results_\n",
    "best = gs.best_params_\n",
    "display(pd.DataFrame(results).sort_values(by='rank_test_score').head(3))\n",
    "print('best values of hyper-parameters', best)"
   ]
  },
  {
   "cell_type": "markdown",
   "id": "sticky-forward",
   "metadata": {},
   "source": [
    "## Build the final model"
   ]
  },
  {
   "cell_type": "code",
   "execution_count": 17,
   "id": "incoming-location",
   "metadata": {},
   "outputs": [
    {
     "name": "stdout",
     "output_type": "stream",
     "text": [
      "Accuracy: 84.36 %\n"
     ]
    },
    {
     "data": {
      "text/plain": [
       "<sklearn.metrics._plot.confusion_matrix.ConfusionMatrixDisplay at 0x187822c63a0>"
      ]
     },
     "execution_count": 17,
     "metadata": {},
     "output_type": "execute_result"
    },
    {
     "data": {
      "image/png": "[encoded data removed]",
      "text/plain": [
       "<Figure size 432x288 with 2 Axes>"
      ]
     },
     "metadata": {
      "needs_background": "light"
     },
     "output_type": "display_data"
    }
   ],
   "source": [
    "clf = RandomForestClassifier(criterion='gini', max_depth=10, max_features='sqrt', random_state=seed)\n",
    "clf.fit(X_train, y_train)\n",
    "\n",
    "# predict\n",
    "y_pred = clf.predict(X_test)\n",
    "\n",
    "# results\n",
    "acc = accuracy_score(y_test, y_pred)\n",
    "cm = confusion_matrix(y_test, y_pred)\n",
    "\n",
    "print('Accuracy: {:.2f} %'.format(acc * 100))\n",
    "plot_confusion_matrix(clf, \n",
    "                     X_test,\n",
    "                     y_test, display_labels=['Did not survive', 'Survived'])"
   ]
  },
  {
   "cell_type": "markdown",
   "id": "attractive-dimension",
   "metadata": {},
   "source": [
    "Use 10-fold CV to get a more robust estimate of the model's accuracy."
   ]
  },
  {
   "cell_type": "code",
   "execution_count": 19,
   "id": "racial-promotion",
   "metadata": {},
   "outputs": [
    {
     "name": "stdout",
     "output_type": "stream",
     "text": [
      "scores:  [0.84444444 0.8988764  0.78651685 0.83146067 0.85393258 0.85393258\n",
      " 0.84269663 0.85393258 0.86516854 0.84269663 0.82222222 0.80898876\n",
      " 0.80898876 0.8988764  0.86516854 0.80898876 0.84269663 0.87640449\n",
      " 0.91011236 0.86516854 0.86666667 0.80898876 0.84269663 0.86516854\n",
      " 0.91011236 0.78651685 0.92134831 0.82022472 0.83146067 0.75280899\n",
      " 0.86666667 0.87640449 0.80898876 0.79775281 0.85393258 0.86516854\n",
      " 0.86516854 0.86516854 0.87640449 0.86516854 0.82222222 0.82022472\n",
      " 0.84269663 0.84269663 0.76404494 0.86516854 0.87640449 0.86516854\n",
      " 0.85393258 0.88764045]\n",
      "Accuracy: 84.74 %\n",
      "St.dev: 0.0359\n"
     ]
    }
   ],
   "source": [
    "# Create the cv tactic.\n",
    "cv_rep_str = RepeatedStratifiedKFold(n_splits=10, n_repeats=5, random_state=seed)\n",
    "\n",
    "# Get CV accuracy and st dev.\n",
    "scores = cross_val_score(clf, X, y, cv=cv_rep_str)\n",
    "\n",
    "print('scores: ', scores )\n",
    "print('Accuracy: {:.2f} %'.format(scores.mean() * 100))\n",
    "print('St.dev: {:.4f}'.format(scores.std()))"
   ]
  },
  {
   "cell_type": "markdown",
   "id": "legislative-cancellation",
   "metadata": {},
   "source": [
    "Hyperparameter tuning resulted in a 0.5% increase in accuracy, with about as much standard deviation. The final random forest classifier has an accuracy of 84.74%."
   ]
  },
  {
   "cell_type": "code",
   "execution_count": null,
   "id": "missing-planet",
   "metadata": {},
   "outputs": [],
   "source": []
  }
 ],
 "metadata": {
  "kernelspec": {
   "display_name": "Python 3",
   "language": "python",
   "name": "python3"
  },
  "language_info": {
   "codemirror_mode": {
    "name": "ipython",
    "version": 3
   },
   "file_extension": ".py",
   "mimetype": "text/x-python",
   "name": "python",
   "nbconvert_exporter": "python",
   "pygments_lexer": "ipython3",
   "version": "3.9.1"
  }
 },
 "nbformat": 4,
 "nbformat_minor": 5
}

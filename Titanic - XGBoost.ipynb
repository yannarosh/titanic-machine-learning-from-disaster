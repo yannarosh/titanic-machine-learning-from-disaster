{
 "cells": [
  {
   "cell_type": "markdown",
   "id": "expressed-promise",
   "metadata": {},
   "source": [
    "# Classification with XGBoost"
   ]
  },
  {
   "cell_type": "markdown",
   "id": "industrial-times",
   "metadata": {},
   "source": [
    "## Import the libraries"
   ]
  },
  {
   "cell_type": "code",
   "execution_count": 1,
   "id": "aging-cargo",
   "metadata": {},
   "outputs": [],
   "source": [
    "import numpy as np\n",
    "import matplotlib.pyplot as plt\n",
    "import pandas as pd\n",
    "import timeit\n",
    "\n",
    "import xgboost as xgb\n",
    "\n",
    "from sklearn.model_selection import train_test_split, GridSearchCV, RandomizedSearchCV, cross_val_score, RepeatedStratifiedKFold\n",
    "from sklearn.metrics import confusion_matrix, plot_confusion_matrix, accuracy_score"
   ]
  },
  {
   "cell_type": "markdown",
   "id": "coordinated-genesis",
   "metadata": {},
   "source": [
    "Set the rng seed."
   ]
  },
  {
   "cell_type": "code",
   "execution_count": 2,
   "id": "imposed-theta",
   "metadata": {},
   "outputs": [],
   "source": [
    "seed = 420"
   ]
  },
  {
   "cell_type": "markdown",
   "id": "driven-stand",
   "metadata": {},
   "source": [
    "## Import and view data"
   ]
  },
  {
   "cell_type": "code",
   "execution_count": 3,
   "id": "rapid-buffer",
   "metadata": {},
   "outputs": [
    {
     "data": {
      "text/html": [
       "<div>\n",
       "<style scoped>\n",
       "    .dataframe tbody tr th:only-of-type {\n",
       "        vertical-align: middle;\n",
       "    }\n",
       "\n",
       "    .dataframe tbody tr th {\n",
       "        vertical-align: top;\n",
       "    }\n",
       "\n",
       "    .dataframe thead th {\n",
       "        text-align: right;\n",
       "    }\n",
       "</style>\n",
       "<table border=\"1\" class=\"dataframe\">\n",
       "  <thead>\n",
       "    <tr style=\"text-align: right;\">\n",
       "      <th></th>\n",
       "      <th>Survived</th>\n",
       "      <th>Pclass</th>\n",
       "      <th>Age</th>\n",
       "      <th>Fare</th>\n",
       "      <th>FamSize</th>\n",
       "      <th>Sex_male</th>\n",
       "      <th>Embarked_Q</th>\n",
       "      <th>Embarked_S</th>\n",
       "      <th>Title_Miss</th>\n",
       "      <th>Title_Mr</th>\n",
       "      <th>Title_Mrs</th>\n",
       "      <th>Title_Other</th>\n",
       "      <th>cabin_missing</th>\n",
       "    </tr>\n",
       "  </thead>\n",
       "  <tbody>\n",
       "    <tr>\n",
       "      <th>0</th>\n",
       "      <td>0.0</td>\n",
       "      <td>3.0</td>\n",
       "      <td>22.0</td>\n",
       "      <td>7.2500</td>\n",
       "      <td>1.0</td>\n",
       "      <td>1.0</td>\n",
       "      <td>0.0</td>\n",
       "      <td>1.0</td>\n",
       "      <td>0.0</td>\n",
       "      <td>1.0</td>\n",
       "      <td>0.0</td>\n",
       "      <td>0.0</td>\n",
       "      <td>1.0</td>\n",
       "    </tr>\n",
       "    <tr>\n",
       "      <th>1</th>\n",
       "      <td>1.0</td>\n",
       "      <td>1.0</td>\n",
       "      <td>38.0</td>\n",
       "      <td>71.2833</td>\n",
       "      <td>1.0</td>\n",
       "      <td>0.0</td>\n",
       "      <td>0.0</td>\n",
       "      <td>0.0</td>\n",
       "      <td>0.0</td>\n",
       "      <td>0.0</td>\n",
       "      <td>1.0</td>\n",
       "      <td>0.0</td>\n",
       "      <td>0.0</td>\n",
       "    </tr>\n",
       "    <tr>\n",
       "      <th>2</th>\n",
       "      <td>1.0</td>\n",
       "      <td>3.0</td>\n",
       "      <td>26.0</td>\n",
       "      <td>7.9250</td>\n",
       "      <td>0.0</td>\n",
       "      <td>0.0</td>\n",
       "      <td>0.0</td>\n",
       "      <td>1.0</td>\n",
       "      <td>1.0</td>\n",
       "      <td>0.0</td>\n",
       "      <td>0.0</td>\n",
       "      <td>0.0</td>\n",
       "      <td>1.0</td>\n",
       "    </tr>\n",
       "    <tr>\n",
       "      <th>3</th>\n",
       "      <td>1.0</td>\n",
       "      <td>1.0</td>\n",
       "      <td>35.0</td>\n",
       "      <td>53.1000</td>\n",
       "      <td>1.0</td>\n",
       "      <td>0.0</td>\n",
       "      <td>0.0</td>\n",
       "      <td>1.0</td>\n",
       "      <td>0.0</td>\n",
       "      <td>0.0</td>\n",
       "      <td>1.0</td>\n",
       "      <td>0.0</td>\n",
       "      <td>0.0</td>\n",
       "    </tr>\n",
       "    <tr>\n",
       "      <th>4</th>\n",
       "      <td>0.0</td>\n",
       "      <td>3.0</td>\n",
       "      <td>35.0</td>\n",
       "      <td>8.0500</td>\n",
       "      <td>0.0</td>\n",
       "      <td>1.0</td>\n",
       "      <td>0.0</td>\n",
       "      <td>1.0</td>\n",
       "      <td>0.0</td>\n",
       "      <td>1.0</td>\n",
       "      <td>0.0</td>\n",
       "      <td>0.0</td>\n",
       "      <td>1.0</td>\n",
       "    </tr>\n",
       "  </tbody>\n",
       "</table>\n",
       "</div>"
      ],
      "text/plain": [
       "   Survived  Pclass   Age     Fare  FamSize  Sex_male  Embarked_Q  Embarked_S  \\\n",
       "0       0.0     3.0  22.0   7.2500      1.0       1.0         0.0         1.0   \n",
       "1       1.0     1.0  38.0  71.2833      1.0       0.0         0.0         0.0   \n",
       "2       1.0     3.0  26.0   7.9250      0.0       0.0         0.0         1.0   \n",
       "3       1.0     1.0  35.0  53.1000      1.0       0.0         0.0         1.0   \n",
       "4       0.0     3.0  35.0   8.0500      0.0       1.0         0.0         1.0   \n",
       "\n",
       "   Title_Miss  Title_Mr  Title_Mrs  Title_Other  cabin_missing  \n",
       "0         0.0       1.0        0.0          0.0            1.0  \n",
       "1         0.0       0.0        1.0          0.0            0.0  \n",
       "2         1.0       0.0        0.0          0.0            1.0  \n",
       "3         0.0       0.0        1.0          0.0            0.0  \n",
       "4         0.0       1.0        0.0          0.0            1.0  "
      ]
     },
     "metadata": {},
     "output_type": "display_data"
    },
    {
     "name": "stdout",
     "output_type": "stream",
     "text": [
      "dims:  (891, 13)\n"
     ]
    }
   ],
   "source": [
    "df = pd.read_csv(\"data/train_prepd.csv\")\n",
    "display(df.head())\n",
    "print('dims: ', df.shape)"
   ]
  },
  {
   "cell_type": "markdown",
   "id": "ongoing-panel",
   "metadata": {},
   "source": [
    "The XGBoost algorithm has default behaviour that can deal with missing data (if they are set to 0). However, I have already taken care of missing data in the EDA step."
   ]
  },
  {
   "cell_type": "code",
   "execution_count": 4,
   "id": "educated-sound",
   "metadata": {},
   "outputs": [
    {
     "data": {
      "text/plain": [
       "Survived         0\n",
       "Pclass           0\n",
       "Age              0\n",
       "Fare             0\n",
       "FamSize          0\n",
       "Sex_male         0\n",
       "Embarked_Q       0\n",
       "Embarked_S       0\n",
       "Title_Miss       0\n",
       "Title_Mr         0\n",
       "Title_Mrs        0\n",
       "Title_Other      0\n",
       "cabin_missing    0\n",
       "dtype: int64"
      ]
     },
     "execution_count": 4,
     "metadata": {},
     "output_type": "execute_result"
    }
   ],
   "source": [
    "df.isna().sum()"
   ]
  },
  {
   "cell_type": "markdown",
   "id": "limiting-investing",
   "metadata": {},
   "source": [
    "## Split data into dependent and independent variables"
   ]
  },
  {
   "cell_type": "code",
   "execution_count": 5,
   "id": "signal-chicago",
   "metadata": {},
   "outputs": [],
   "source": [
    "# split into dependent and independent variables\n",
    "X = df.iloc[:, 1:]\n",
    "y = df.iloc[:, 0]"
   ]
  },
  {
   "cell_type": "markdown",
   "id": "macro-company",
   "metadata": {},
   "source": [
    "## Build a preliminary model"
   ]
  },
  {
   "cell_type": "markdown",
   "id": "complimentary-pocket",
   "metadata": {},
   "source": [
    "In this step we'll build the most basic XGBoost model, to see what we can expect. First, we'll assess it on a simple train/test split, then using 10-fold cross-validation. "
   ]
  },
  {
   "cell_type": "code",
   "execution_count": 6,
   "id": "lonely-banking",
   "metadata": {},
   "outputs": [
    {
     "data": {
      "text/plain": [
       "0.3838383838383838"
      ]
     },
     "execution_count": 6,
     "metadata": {},
     "output_type": "execute_result"
    }
   ],
   "source": [
    "np.mean(y)"
   ]
  },
  {
   "cell_type": "markdown",
   "id": "geological-freedom",
   "metadata": {},
   "source": [
    "The dataset is fairly imbalanced (38% survived), so we'll use stratification in the train/test split. We'll also use stratification later on for cross validation."
   ]
  },
  {
   "cell_type": "code",
   "execution_count": 9,
   "id": "comfortable-sport",
   "metadata": {},
   "outputs": [],
   "source": [
    "# split into training and test sets, using stratification.\n",
    "X_train, X_test, y_train, y_test = train_test_split(X, y, test_size = 0.2, stratify=y, random_state = seed)"
   ]
  },
  {
   "cell_type": "markdown",
   "id": "harmful-football",
   "metadata": {},
   "source": [
    "Stratification check on y."
   ]
  },
  {
   "cell_type": "code",
   "execution_count": 10,
   "id": "brown-nirvana",
   "metadata": {},
   "outputs": [
    {
     "name": "stdout",
     "output_type": "stream",
     "text": [
      "0.38342696629213485\n",
      "0.3854748603351955\n"
     ]
    }
   ],
   "source": [
    "# Quick check to see if samples are indeed stratified.\n",
    "print(np.mean(y_train))\n",
    "print(np.mean(y_test))"
   ]
  },
  {
   "cell_type": "markdown",
   "id": "rental-rebel",
   "metadata": {},
   "source": [
    "Build the XGB classifier shell and fit it on the training data."
   ]
  },
  {
   "cell_type": "code",
   "execution_count": 11,
   "id": "disturbed-webmaster",
   "metadata": {},
   "outputs": [
    {
     "name": "stdout",
     "output_type": "stream",
     "text": [
      "[19:59:25] WARNING: C:/Users/Administrator/workspace/xgboost-win64_release_1.4.0/src/learner.cc:1095: Starting in XGBoost 1.3.0, the default evaluation metric used with the objective 'binary:logistic' was changed from 'error' to 'logloss'. Explicitly set eval_metric if you'd like to restore the old behavior.\n"
     ]
    },
    {
     "data": {
      "text/plain": [
       "XGBClassifier(base_score=0.5, booster='gbtree', colsample_bylevel=1,\n",
       "              colsample_bynode=1, colsample_bytree=1, gamma=0, gpu_id=-1,\n",
       "              importance_type='gain', interaction_constraints='',\n",
       "              learning_rate=0.300000012, max_delta_step=0, max_depth=6,\n",
       "              min_child_weight=1, missing=nan, monotone_constraints='()',\n",
       "              n_estimators=100, n_jobs=12, num_parallel_tree=1,\n",
       "              random_state=420, reg_alpha=0, reg_lambda=1, scale_pos_weight=1,\n",
       "              subsample=1, tree_method='exact', use_label_encoder=False,\n",
       "              validate_parameters=1, verbosity=None)"
      ]
     },
     "execution_count": 11,
     "metadata": {},
     "output_type": "execute_result"
    }
   ],
   "source": [
    "clf_prel = xgb.XGBClassifier(objective='binary:logistic', use_label_encoder=False, random_state=seed)\n",
    "clf_prel.fit(X_train, y_train)\n",
    "\n",
    "# Setting use_label_encoder=False is recommended by XGBoost."
   ]
  },
  {
   "cell_type": "markdown",
   "id": "australian-bangladesh",
   "metadata": {},
   "source": [
    "**NOTE**: In the model fit above, I could be using early stopping to prevent overfitting and improve performance - i.e. tell the algorithm to stop building more trees when the evaluation metric I choose (should be 'aucpr' here) is not improving on some holdout evaluation set (not the X_test, y_test). In the case of train/test splits, I should further split the train set into train and validation, then set early stopping criteria based on the performance gain on the validation set. In the case of CV (which occurs several times in the rest of the notebook) this is more difficult - each of the k train/test splits should really be a train/validation/test split, in order to assess early stopping on the validation set.\n",
    "\n",
    "Intermingling early stopping with Grid Search / Randomized Search CV for hyperparameter tuning doesn't seem a great idea. \n",
    "\n",
    "https://stackoverflow.com/questions/48127550/early-stopping-with-keras-and-sklearn-gridsearchcv-cross-validation\n",
    "\n",
    "Once I have the best hyperparameters through CV, I can always employ early stopping when fitting the model in the whole training set (provided of course that there is a separate validation set). Given the small size of the dataset for this project, I would prefer not to split further the training set just to employ early stopping.\n",
    "\n",
    "A script is nonetheless constructed below. "
   ]
  },
  {
   "cell_type": "code",
   "execution_count": 12,
   "id": "criminal-grove",
   "metadata": {},
   "outputs": [],
   "source": [
    "# # Split into train, validation and test sets in order to use early stopping.\n",
    "\n",
    "# X_train, X_test, y_train, y_test = train_test_split(X, y, test_size=0.2, stratify=y, random_state = seed)\n",
    "# X_train, X_val, y_train, y_val = train_test_split(X_train, y_train, test_size=0.25, stratify=y_train, random_state=seed) # 0.25 x 0.8 = 0.2\n",
    "\n",
    "\n",
    "# # Stratification check.\n",
    "\n",
    "#print(np.mean(y_train))\n",
    "#print(np.mean(y_test))\n",
    "#print(np.mean(y_val))\n",
    "\n",
    "\n",
    "# Build the XGB classifier shell and fit it on the training data. First, without early stopping. Evaluate on the validation set using AUC PR.\n",
    "\n",
    "# **NOTE**: It is commonly seen to evaluate early stopping on the test set. This results in data leakage.\n",
    "\n",
    "#clf_prel = xgb.XGBClassifier(objective='binary:logistic', use_label_encoder=False, random_state=seed)\n",
    "#clf_prel.fit(X_train, \n",
    "#             y_train,\n",
    "#             verbose=True,\n",
    "#             #early_stopping_rounds=XX,\n",
    "#             eval_metric='aucpr',\n",
    "#             eval_set=[(X_train, y_train), (X_val, y_val)])\n",
    "\n",
    "# # Setting use_label_encoder=False is recommended by XGBoost.\n",
    "\n",
    "# # If multiple evaluation datasets or multiple evaluation metrics are provided, then early stopping will use the last in the list.\n",
    "\n",
    "\n",
    "# Plot performance on the training set and on the validation set as more trees are built.\n",
    "\n",
    "# results = clf_prel.evals_result()\n",
    "# epochs = len(results['validation_0']['aucpr'])\n",
    "# x_axis = range(0, epochs)\n",
    "# # plot AUC PR\n",
    "# fig, ax = plt.subplots()\n",
    "# ax.plot(x_axis, results['validation_0']['aucpr'], label='Train')\n",
    "# ax.plot(x_axis, results['validation_1']['aucpr'], label='Validation')\n",
    "# ax.legend()\n",
    "# plt.ylabel('AUC PR')\n",
    "# plt.xlabel('Epochs')\n",
    "# plt.title('XGBoost AUC PR')\n",
    "# plt.show()\n",
    "\n",
    "\n",
    "# Clearly the algorithm overfits quite fast. We will fit again using early stopping after no improvement is found on the validation set after 10 trees.\n",
    "\n",
    "# clf_prel = xgb.XGBClassifier(objective='binary:logistic', use_label_encoder=False, random_state=seed)\n",
    "# clf_prel.fit(X_train, \n",
    "#              y_train,\n",
    "#              verbose=True,\n",
    "#              early_stopping_rounds=10,\n",
    "#              eval_metric='aucpr',\n",
    "#              eval_set=[(X_train, y_train), (X_val, y_val)])"
   ]
  },
  {
   "cell_type": "code",
   "execution_count": 13,
   "id": "complimentary-involvement",
   "metadata": {},
   "outputs": [
    {
     "name": "stdout",
     "output_type": "stream",
     "text": [
      "Accuracy: 81.56 %\n"
     ]
    },
    {
     "data": {
      "text/plain": [
       "<sklearn.metrics._plot.confusion_matrix.ConfusionMatrixDisplay at 0x1bffffef850>"
      ]
     },
     "execution_count": 13,
     "metadata": {},
     "output_type": "execute_result"
    },
    {
     "data": {
      "image/png": "[encoded data removed]",
      "text/plain": [
       "<Figure size 432x288 with 2 Axes>"
      ]
     },
     "metadata": {
      "needs_background": "light"
     },
     "output_type": "display_data"
    }
   ],
   "source": [
    "# predict on the test set\n",
    "y_pred = clf_prel.predict(X_test)\n",
    "\n",
    "# print accuracy and draw the confusion matrix\n",
    "acc = accuracy_score(y_test, y_pred)\n",
    "cm = confusion_matrix(y_test, y_pred)\n",
    "print('Accuracy: {:.2f} %'.format(acc * 100))\n",
    "\n",
    "plot_confusion_matrix(clf_prel, \n",
    "                     X_test,\n",
    "                     y_test, display_labels=['Did not survive', 'Survived'])"
   ]
  },
  {
   "cell_type": "code",
   "execution_count": 14,
   "id": "natural-witch",
   "metadata": {},
   "outputs": [
    {
     "name": "stdout",
     "output_type": "stream",
     "text": [
      "[19:59:32] WARNING: C:/Users/Administrator/workspace/xgboost-win64_release_1.4.0/src/learner.cc:1095: Starting in XGBoost 1.3.0, the default evaluation metric used with the objective 'binary:logistic' was changed from 'error' to 'logloss'. Explicitly set eval_metric if you'd like to restore the old behavior.\n",
      "[19:59:32] WARNING: C:/Users/Administrator/workspace/xgboost-win64_release_1.4.0/src/learner.cc:1095: Starting in XGBoost 1.3.0, the default evaluation metric used with the objective 'binary:logistic' was changed from 'error' to 'logloss'. Explicitly set eval_metric if you'd like to restore the old behavior.\n",
      "[19:59:33] WARNING: C:/Users/Administrator/workspace/xgboost-win64_release_1.4.0/src/learner.cc:1095: Starting in XGBoost 1.3.0, the default evaluation metric used with the objective 'binary:logistic' was changed from 'error' to 'logloss'. Explicitly set eval_metric if you'd like to restore the old behavior.\n",
      "[19:59:33] WARNING: C:/Users/Administrator/workspace/xgboost-win64_release_1.4.0/src/learner.cc:1095: Starting in XGBoost 1.3.0, the default evaluation metric used with the objective 'binary:logistic' was changed from 'error' to 'logloss'. Explicitly set eval_metric if you'd like to restore the old behavior.\n",
      "[19:59:33] WARNING: C:/Users/Administrator/workspace/xgboost-win64_release_1.4.0/src/learner.cc:1095: Starting in XGBoost 1.3.0, the default evaluation metric used with the objective 'binary:logistic' was changed from 'error' to 'logloss'. Explicitly set eval_metric if you'd like to restore the old behavior.\n",
      "[19:59:33] WARNING: C:/Users/Administrator/workspace/xgboost-win64_release_1.4.0/src/learner.cc:1095: Starting in XGBoost 1.3.0, the default evaluation metric used with the objective 'binary:logistic' was changed from 'error' to 'logloss'. Explicitly set eval_metric if you'd like to restore the old behavior.\n",
      "[19:59:33] WARNING: C:/Users/Administrator/workspace/xgboost-win64_release_1.4.0/src/learner.cc:1095: Starting in XGBoost 1.3.0, the default evaluation metric used with the objective 'binary:logistic' was changed from 'error' to 'logloss'. Explicitly set eval_metric if you'd like to restore the old behavior.\n",
      "[19:59:33] WARNING: C:/Users/Administrator/workspace/xgboost-win64_release_1.4.0/src/learner.cc:1095: Starting in XGBoost 1.3.0, the default evaluation metric used with the objective 'binary:logistic' was changed from 'error' to 'logloss'. Explicitly set eval_metric if you'd like to restore the old behavior.\n",
      "[19:59:33] WARNING: C:/Users/Administrator/workspace/xgboost-win64_release_1.4.0/src/learner.cc:1095: Starting in XGBoost 1.3.0, the default evaluation metric used with the objective 'binary:logistic' was changed from 'error' to 'logloss'. Explicitly set eval_metric if you'd like to restore the old behavior.\n",
      "[19:59:33] WARNING: C:/Users/Administrator/workspace/xgboost-win64_release_1.4.0/src/learner.cc:1095: Starting in XGBoost 1.3.0, the default evaluation metric used with the objective 'binary:logistic' was changed from 'error' to 'logloss'. Explicitly set eval_metric if you'd like to restore the old behavior.\n",
      "[19:59:33] WARNING: C:/Users/Administrator/workspace/xgboost-win64_release_1.4.0/src/learner.cc:1095: Starting in XGBoost 1.3.0, the default evaluation metric used with the objective 'binary:logistic' was changed from 'error' to 'logloss'. Explicitly set eval_metric if you'd like to restore the old behavior.\n",
      "[19:59:33] WARNING: C:/Users/Administrator/workspace/xgboost-win64_release_1.4.0/src/learner.cc:1095: Starting in XGBoost 1.3.0, the default evaluation metric used with the objective 'binary:logistic' was changed from 'error' to 'logloss'. Explicitly set eval_metric if you'd like to restore the old behavior.\n",
      "[19:59:33] WARNING: C:/Users/Administrator/workspace/xgboost-win64_release_1.4.0/src/learner.cc:1095: Starting in XGBoost 1.3.0, the default evaluation metric used with the objective 'binary:logistic' was changed from 'error' to 'logloss'. Explicitly set eval_metric if you'd like to restore the old behavior.\n",
      "[19:59:33] WARNING: C:/Users/Administrator/workspace/xgboost-win64_release_1.4.0/src/learner.cc:1095: Starting in XGBoost 1.3.0, the default evaluation metric used with the objective 'binary:logistic' was changed from 'error' to 'logloss'. Explicitly set eval_metric if you'd like to restore the old behavior.\n",
      "[19:59:33] WARNING: C:/Users/Administrator/workspace/xgboost-win64_release_1.4.0/src/learner.cc:1095: Starting in XGBoost 1.3.0, the default evaluation metric used with the objective 'binary:logistic' was changed from 'error' to 'logloss'. Explicitly set eval_metric if you'd like to restore the old behavior.\n",
      "[19:59:33] WARNING: C:/Users/Administrator/workspace/xgboost-win64_release_1.4.0/src/learner.cc:1095: Starting in XGBoost 1.3.0, the default evaluation metric used with the objective 'binary:logistic' was changed from 'error' to 'logloss'. Explicitly set eval_metric if you'd like to restore the old behavior.\n",
      "[19:59:33] WARNING: C:/Users/Administrator/workspace/xgboost-win64_release_1.4.0/src/learner.cc:1095: Starting in XGBoost 1.3.0, the default evaluation metric used with the objective 'binary:logistic' was changed from 'error' to 'logloss'. Explicitly set eval_metric if you'd like to restore the old behavior.\n",
      "[19:59:33] WARNING: C:/Users/Administrator/workspace/xgboost-win64_release_1.4.0/src/learner.cc:1095: Starting in XGBoost 1.3.0, the default evaluation metric used with the objective 'binary:logistic' was changed from 'error' to 'logloss'. Explicitly set eval_metric if you'd like to restore the old behavior.\n",
      "[19:59:33] WARNING: C:/Users/Administrator/workspace/xgboost-win64_release_1.4.0/src/learner.cc:1095: Starting in XGBoost 1.3.0, the default evaluation metric used with the objective 'binary:logistic' was changed from 'error' to 'logloss'. Explicitly set eval_metric if you'd like to restore the old behavior.\n",
      "[19:59:33] WARNING: C:/Users/Administrator/workspace/xgboost-win64_release_1.4.0/src/learner.cc:1095: Starting in XGBoost 1.3.0, the default evaluation metric used with the objective 'binary:logistic' was changed from 'error' to 'logloss'. Explicitly set eval_metric if you'd like to restore the old behavior.\n",
      "[19:59:33] WARNING: C:/Users/Administrator/workspace/xgboost-win64_release_1.4.0/src/learner.cc:1095: Starting in XGBoost 1.3.0, the default evaluation metric used with the objective 'binary:logistic' was changed from 'error' to 'logloss'. Explicitly set eval_metric if you'd like to restore the old behavior.\n",
      "[19:59:34] WARNING: C:/Users/Administrator/workspace/xgboost-win64_release_1.4.0/src/learner.cc:1095: Starting in XGBoost 1.3.0, the default evaluation metric used with the objective 'binary:logistic' was changed from 'error' to 'logloss'. Explicitly set eval_metric if you'd like to restore the old behavior.\n",
      "[19:59:34] WARNING: C:/Users/Administrator/workspace/xgboost-win64_release_1.4.0/src/learner.cc:1095: Starting in XGBoost 1.3.0, the default evaluation metric used with the objective 'binary:logistic' was changed from 'error' to 'logloss'. Explicitly set eval_metric if you'd like to restore the old behavior.\n",
      "[19:59:34] WARNING: C:/Users/Administrator/workspace/xgboost-win64_release_1.4.0/src/learner.cc:1095: Starting in XGBoost 1.3.0, the default evaluation metric used with the objective 'binary:logistic' was changed from 'error' to 'logloss'. Explicitly set eval_metric if you'd like to restore the old behavior.\n",
      "[19:59:34] WARNING: C:/Users/Administrator/workspace/xgboost-win64_release_1.4.0/src/learner.cc:1095: Starting in XGBoost 1.3.0, the default evaluation metric used with the objective 'binary:logistic' was changed from 'error' to 'logloss'. Explicitly set eval_metric if you'd like to restore the old behavior.\n",
      "[19:59:34] WARNING: C:/Users/Administrator/workspace/xgboost-win64_release_1.4.0/src/learner.cc:1095: Starting in XGBoost 1.3.0, the default evaluation metric used with the objective 'binary:logistic' was changed from 'error' to 'logloss'. Explicitly set eval_metric if you'd like to restore the old behavior.\n",
      "[19:59:34] WARNING: C:/Users/Administrator/workspace/xgboost-win64_release_1.4.0/src/learner.cc:1095: Starting in XGBoost 1.3.0, the default evaluation metric used with the objective 'binary:logistic' was changed from 'error' to 'logloss'. Explicitly set eval_metric if you'd like to restore the old behavior.\n",
      "[19:59:34] WARNING: C:/Users/Administrator/workspace/xgboost-win64_release_1.4.0/src/learner.cc:1095: Starting in XGBoost 1.3.0, the default evaluation metric used with the objective 'binary:logistic' was changed from 'error' to 'logloss'. Explicitly set eval_metric if you'd like to restore the old behavior.\n"
     ]
    },
    {
     "name": "stdout",
     "output_type": "stream",
     "text": [
      "[19:59:34] WARNING: C:/Users/Administrator/workspace/xgboost-win64_release_1.4.0/src/learner.cc:1095: Starting in XGBoost 1.3.0, the default evaluation metric used with the objective 'binary:logistic' was changed from 'error' to 'logloss'. Explicitly set eval_metric if you'd like to restore the old behavior.\n",
      "[19:59:34] WARNING: C:/Users/Administrator/workspace/xgboost-win64_release_1.4.0/src/learner.cc:1095: Starting in XGBoost 1.3.0, the default evaluation metric used with the objective 'binary:logistic' was changed from 'error' to 'logloss'. Explicitly set eval_metric if you'd like to restore the old behavior.\n",
      "[19:59:34] WARNING: C:/Users/Administrator/workspace/xgboost-win64_release_1.4.0/src/learner.cc:1095: Starting in XGBoost 1.3.0, the default evaluation metric used with the objective 'binary:logistic' was changed from 'error' to 'logloss'. Explicitly set eval_metric if you'd like to restore the old behavior.\n",
      "[19:59:34] WARNING: C:/Users/Administrator/workspace/xgboost-win64_release_1.4.0/src/learner.cc:1095: Starting in XGBoost 1.3.0, the default evaluation metric used with the objective 'binary:logistic' was changed from 'error' to 'logloss'. Explicitly set eval_metric if you'd like to restore the old behavior.\n",
      "[19:59:34] WARNING: C:/Users/Administrator/workspace/xgboost-win64_release_1.4.0/src/learner.cc:1095: Starting in XGBoost 1.3.0, the default evaluation metric used with the objective 'binary:logistic' was changed from 'error' to 'logloss'. Explicitly set eval_metric if you'd like to restore the old behavior.\n",
      "[19:59:34] WARNING: C:/Users/Administrator/workspace/xgboost-win64_release_1.4.0/src/learner.cc:1095: Starting in XGBoost 1.3.0, the default evaluation metric used with the objective 'binary:logistic' was changed from 'error' to 'logloss'. Explicitly set eval_metric if you'd like to restore the old behavior.\n",
      "[19:59:34] WARNING: C:/Users/Administrator/workspace/xgboost-win64_release_1.4.0/src/learner.cc:1095: Starting in XGBoost 1.3.0, the default evaluation metric used with the objective 'binary:logistic' was changed from 'error' to 'logloss'. Explicitly set eval_metric if you'd like to restore the old behavior.\n",
      "[19:59:34] WARNING: C:/Users/Administrator/workspace/xgboost-win64_release_1.4.0/src/learner.cc:1095: Starting in XGBoost 1.3.0, the default evaluation metric used with the objective 'binary:logistic' was changed from 'error' to 'logloss'. Explicitly set eval_metric if you'd like to restore the old behavior.\n",
      "[19:59:34] WARNING: C:/Users/Administrator/workspace/xgboost-win64_release_1.4.0/src/learner.cc:1095: Starting in XGBoost 1.3.0, the default evaluation metric used with the objective 'binary:logistic' was changed from 'error' to 'logloss'. Explicitly set eval_metric if you'd like to restore the old behavior.\n",
      "[19:59:34] WARNING: C:/Users/Administrator/workspace/xgboost-win64_release_1.4.0/src/learner.cc:1095: Starting in XGBoost 1.3.0, the default evaluation metric used with the objective 'binary:logistic' was changed from 'error' to 'logloss'. Explicitly set eval_metric if you'd like to restore the old behavior.\n",
      "[19:59:34] WARNING: C:/Users/Administrator/workspace/xgboost-win64_release_1.4.0/src/learner.cc:1095: Starting in XGBoost 1.3.0, the default evaluation metric used with the objective 'binary:logistic' was changed from 'error' to 'logloss'. Explicitly set eval_metric if you'd like to restore the old behavior.\n",
      "[19:59:34] WARNING: C:/Users/Administrator/workspace/xgboost-win64_release_1.4.0/src/learner.cc:1095: Starting in XGBoost 1.3.0, the default evaluation metric used with the objective 'binary:logistic' was changed from 'error' to 'logloss'. Explicitly set eval_metric if you'd like to restore the old behavior.\n",
      "[19:59:35] WARNING: C:/Users/Administrator/workspace/xgboost-win64_release_1.4.0/src/learner.cc:1095: Starting in XGBoost 1.3.0, the default evaluation metric used with the objective 'binary:logistic' was changed from 'error' to 'logloss'. Explicitly set eval_metric if you'd like to restore the old behavior.\n",
      "[19:59:35] WARNING: C:/Users/Administrator/workspace/xgboost-win64_release_1.4.0/src/learner.cc:1095: Starting in XGBoost 1.3.0, the default evaluation metric used with the objective 'binary:logistic' was changed from 'error' to 'logloss'. Explicitly set eval_metric if you'd like to restore the old behavior.\n",
      "[19:59:35] WARNING: C:/Users/Administrator/workspace/xgboost-win64_release_1.4.0/src/learner.cc:1095: Starting in XGBoost 1.3.0, the default evaluation metric used with the objective 'binary:logistic' was changed from 'error' to 'logloss'. Explicitly set eval_metric if you'd like to restore the old behavior.\n",
      "[19:59:35] WARNING: C:/Users/Administrator/workspace/xgboost-win64_release_1.4.0/src/learner.cc:1095: Starting in XGBoost 1.3.0, the default evaluation metric used with the objective 'binary:logistic' was changed from 'error' to 'logloss'. Explicitly set eval_metric if you'd like to restore the old behavior.\n",
      "[19:59:35] WARNING: C:/Users/Administrator/workspace/xgboost-win64_release_1.4.0/src/learner.cc:1095: Starting in XGBoost 1.3.0, the default evaluation metric used with the objective 'binary:logistic' was changed from 'error' to 'logloss'. Explicitly set eval_metric if you'd like to restore the old behavior.\n",
      "[19:59:35] WARNING: C:/Users/Administrator/workspace/xgboost-win64_release_1.4.0/src/learner.cc:1095: Starting in XGBoost 1.3.0, the default evaluation metric used with the objective 'binary:logistic' was changed from 'error' to 'logloss'. Explicitly set eval_metric if you'd like to restore the old behavior.\n",
      "[19:59:35] WARNING: C:/Users/Administrator/workspace/xgboost-win64_release_1.4.0/src/learner.cc:1095: Starting in XGBoost 1.3.0, the default evaluation metric used with the objective 'binary:logistic' was changed from 'error' to 'logloss'. Explicitly set eval_metric if you'd like to restore the old behavior.\n",
      "[19:59:35] WARNING: C:/Users/Administrator/workspace/xgboost-win64_release_1.4.0/src/learner.cc:1095: Starting in XGBoost 1.3.0, the default evaluation metric used with the objective 'binary:logistic' was changed from 'error' to 'logloss'. Explicitly set eval_metric if you'd like to restore the old behavior.\n",
      "[19:59:35] WARNING: C:/Users/Administrator/workspace/xgboost-win64_release_1.4.0/src/learner.cc:1095: Starting in XGBoost 1.3.0, the default evaluation metric used with the objective 'binary:logistic' was changed from 'error' to 'logloss'. Explicitly set eval_metric if you'd like to restore the old behavior.\n",
      "[19:59:35] WARNING: C:/Users/Administrator/workspace/xgboost-win64_release_1.4.0/src/learner.cc:1095: Starting in XGBoost 1.3.0, the default evaluation metric used with the objective 'binary:logistic' was changed from 'error' to 'logloss'. Explicitly set eval_metric if you'd like to restore the old behavior.\n",
      "scores:  [0.87777778 0.84269663 0.86516854 0.79775281 0.83146067 0.80898876\n",
      " 0.82022472 0.83146067 0.87640449 0.85393258 0.86666667 0.93258427\n",
      " 0.82022472 0.80898876 0.78651685 0.8988764  0.80898876 0.86516854\n",
      " 0.87640449 0.87640449 0.84444444 0.84269663 0.80898876 0.83146067\n",
      " 0.86516854 0.84269663 0.85393258 0.84269663 0.84269663 0.84269663\n",
      " 0.85555556 0.82022472 0.88764045 0.80898876 0.7752809  0.82022472\n",
      " 0.86516854 0.82022472 0.7752809  0.85393258 0.88888889 0.87640449\n",
      " 0.76404494 0.79775281 0.78651685 0.87640449 0.86516854 0.86516854\n",
      " 0.83146067 0.86516854]\n",
      "Accuracy: 84.13 %\n",
      "St.dev: 0.0350\n"
     ]
    }
   ],
   "source": [
    "cv = RepeatedStratifiedKFold(n_splits=10, n_repeats=5, random_state=seed)\n",
    "scores = cross_val_score(clf_prel, X, y, cv=cv)\n",
    "\n",
    "print('scores: ', scores )\n",
    "print('Accuracy: {:.2f} %'.format(scores.mean() * 100))\n",
    "print('St.dev: {:.4f}'.format(scores.std()))"
   ]
  },
  {
   "cell_type": "markdown",
   "id": "considered-genealogy",
   "metadata": {},
   "source": [
    "The preliminary model has an accuracy of 84.13%. We'll see if we can improve it with hypermarameter optimization."
   ]
  },
  {
   "cell_type": "markdown",
   "id": "sunrise-pastor",
   "metadata": {},
   "source": [
    "## Hyperparameter tuning"
   ]
  },
  {
   "cell_type": "markdown",
   "id": "modified-reset",
   "metadata": {},
   "source": [
    "We will use Grid Search CV (and Randomized Search CV) to find the best hyperparameters for XGBoost. Grid Search CV is going to be run within the training set and the model with the best performance on the validation sets will be picked for a final accuracy assesment on the testing set. Early stopping is not used (see note above)."
   ]
  },
  {
   "cell_type": "code",
   "execution_count": 15,
   "id": "virgin-productivity",
   "metadata": {},
   "outputs": [],
   "source": [
    "# build the parameters dictionary\n",
    "param_grid = {\n",
    "    'max_depth': [4, 6, 8, 10], #increasing max depth further will improve performance, but will lead to overfitting.\n",
    "    'learning_rate': [0.01, 0.05, 0.1, 0.2, 0.5], #learning rate 0.01 will likely overfit\n",
    "    'gamma': [0, 0.25, 0.5, 1],\n",
    "    'reg_lambda': [0, 1, 10, 20],\n",
    "    'scale_pos_weight': [1, 2, 3, 4], #XGBoost recommends sum(negative instances) / sum(positive instances)\n",
    "    'colsample_bytree': [0.3, 0.5, 0.8],\n",
    "    'min_child_weight': [1, 3, 5, 7]\n",
    "}"
   ]
  },
  {
   "cell_type": "code",
   "execution_count": 16,
   "id": "common-crowd",
   "metadata": {},
   "outputs": [],
   "source": [
    "# construct the XGB classifier shell and pass it to grid search along with the parameters dictionary\n",
    "clf_gs = xgb.XGBClassifier(objective='binary:logistic', use_label_encoder=False, random_state=seed)\n",
    "gs = GridSearchCV(clf_gs, \n",
    "                  param_grid=param_grid, \n",
    "                  scoring='roc_auc', \n",
    "                  n_jobs=-1, \n",
    "                  cv=5, \n",
    "                  verbose=2)"
   ]
  },
  {
   "cell_type": "code",
   "execution_count": 17,
   "id": "interested-simulation",
   "metadata": {},
   "outputs": [],
   "source": [
    "clf_rs = clf_gs = xgb.XGBClassifier(objective='binary:logistic', use_label_encoder=False, random_state=seed)\n",
    "rs = RandomizedSearchCV(estimator=clf_rs,\n",
    "                        param_distributions=param_grid,\n",
    "                        scoring='roc_auc',\n",
    "                        n_jobs=-1,\n",
    "                        n_iter=500,\n",
    "                        cv=5,\n",
    "                        verbose=2,\n",
    "                        random_state=seed)"
   ]
  },
  {
   "cell_type": "markdown",
   "id": "helpful-cheat",
   "metadata": {},
   "source": [
    "First with Grid Search CV, which is exhaustive and more performance intensive."
   ]
  },
  {
   "cell_type": "code",
   "execution_count": 18,
   "id": "animated-chick",
   "metadata": {},
   "outputs": [
    {
     "name": "stdout",
     "output_type": "stream",
     "text": [
      "Fitting 5 folds for each of 15360 candidates, totalling 76800 fits\n",
      "[20:25:11] WARNING: C:/Users/Administrator/workspace/xgboost-win64_release_1.4.0/src/learner.cc:1095: Starting in XGBoost 1.3.0, the default evaluation metric used with the objective 'binary:logistic' was changed from 'error' to 'logloss'. Explicitly set eval_metric if you'd like to restore the old behavior.\n",
      "Best Accuracy: 89.67 %\n",
      "Best Parameters:  {'colsample_bytree': 0.5, 'gamma': 0.25, 'learning_rate': 0.01, 'max_depth': 10, 'min_child_weight': 1, 'reg_lambda': 0, 'scale_pos_weight': 2}\n",
      "Time: 1498.82\n"
     ]
    }
   ],
   "source": [
    "#start timer\n",
    "start = timeit.default_timer()\n",
    "\n",
    "#run grid cv and print parameters\n",
    "gs.fit(X_train, y_train)\n",
    "print(\"Best Accuracy: {:.2f} %\".format(gs.best_score_*100))\n",
    "print(\"Best Parameters: \", gs.best_params_)\n",
    "\n",
    "#end timer and print\n",
    "stop = timeit.default_timer()\n",
    "print('Time: {:.2f}'.format(stop - start)) "
   ]
  },
  {
   "cell_type": "code",
   "execution_count": 19,
   "id": "thrown-attribute",
   "metadata": {},
   "outputs": [
    {
     "data": {
      "text/html": [
       "<div>\n",
       "<style scoped>\n",
       "    .dataframe tbody tr th:only-of-type {\n",
       "        vertical-align: middle;\n",
       "    }\n",
       "\n",
       "    .dataframe tbody tr th {\n",
       "        vertical-align: top;\n",
       "    }\n",
       "\n",
       "    .dataframe thead th {\n",
       "        text-align: right;\n",
       "    }\n",
       "</style>\n",
       "<table border=\"1\" class=\"dataframe\">\n",
       "  <thead>\n",
       "    <tr style=\"text-align: right;\">\n",
       "      <th></th>\n",
       "      <th>mean_fit_time</th>\n",
       "      <th>std_fit_time</th>\n",
       "      <th>mean_score_time</th>\n",
       "      <th>std_score_time</th>\n",
       "      <th>param_colsample_bytree</th>\n",
       "      <th>param_gamma</th>\n",
       "      <th>param_learning_rate</th>\n",
       "      <th>param_max_depth</th>\n",
       "      <th>param_min_child_weight</th>\n",
       "      <th>param_reg_lambda</th>\n",
       "      <th>param_scale_pos_weight</th>\n",
       "      <th>params</th>\n",
       "      <th>split0_test_score</th>\n",
       "      <th>split1_test_score</th>\n",
       "      <th>split2_test_score</th>\n",
       "      <th>split3_test_score</th>\n",
       "      <th>split4_test_score</th>\n",
       "      <th>mean_test_score</th>\n",
       "      <th>std_test_score</th>\n",
       "      <th>rank_test_score</th>\n",
       "    </tr>\n",
       "  </thead>\n",
       "  <tbody>\n",
       "    <tr>\n",
       "      <th>6593</th>\n",
       "      <td>0.451010</td>\n",
       "      <td>0.017251</td>\n",
       "      <td>0.003603</td>\n",
       "      <td>0.00049</td>\n",
       "      <td>0.5</td>\n",
       "      <td>0.25</td>\n",
       "      <td>0.01</td>\n",
       "      <td>10</td>\n",
       "      <td>1</td>\n",
       "      <td>0</td>\n",
       "      <td>2</td>\n",
       "      <td>{'colsample_bytree': 0.5, 'gamma': 0.25, 'lear...</td>\n",
       "      <td>0.863843</td>\n",
       "      <td>0.897727</td>\n",
       "      <td>0.870581</td>\n",
       "      <td>0.917298</td>\n",
       "      <td>0.933960</td>\n",
       "      <td>0.896682</td>\n",
       "      <td>0.026741</td>\n",
       "      <td>1</td>\n",
       "    </tr>\n",
       "    <tr>\n",
       "      <th>5313</th>\n",
       "      <td>0.461620</td>\n",
       "      <td>0.021133</td>\n",
       "      <td>0.003803</td>\n",
       "      <td>0.00040</td>\n",
       "      <td>0.5</td>\n",
       "      <td>0</td>\n",
       "      <td>0.01</td>\n",
       "      <td>10</td>\n",
       "      <td>1</td>\n",
       "      <td>0</td>\n",
       "      <td>2</td>\n",
       "      <td>{'colsample_bytree': 0.5, 'gamma': 0, 'learnin...</td>\n",
       "      <td>0.864463</td>\n",
       "      <td>0.897314</td>\n",
       "      <td>0.870581</td>\n",
       "      <td>0.915194</td>\n",
       "      <td>0.933333</td>\n",
       "      <td>0.896177</td>\n",
       "      <td>0.026094</td>\n",
       "      <td>2</td>\n",
       "    </tr>\n",
       "    <tr>\n",
       "      <th>7873</th>\n",
       "      <td>0.437798</td>\n",
       "      <td>0.034923</td>\n",
       "      <td>0.003803</td>\n",
       "      <td>0.00040</td>\n",
       "      <td>0.5</td>\n",
       "      <td>0.5</td>\n",
       "      <td>0.01</td>\n",
       "      <td>10</td>\n",
       "      <td>1</td>\n",
       "      <td>0</td>\n",
       "      <td>2</td>\n",
       "      <td>{'colsample_bytree': 0.5, 'gamma': 0.5, 'learn...</td>\n",
       "      <td>0.863223</td>\n",
       "      <td>0.898554</td>\n",
       "      <td>0.868897</td>\n",
       "      <td>0.917508</td>\n",
       "      <td>0.930617</td>\n",
       "      <td>0.895760</td>\n",
       "      <td>0.026367</td>\n",
       "      <td>3</td>\n",
       "    </tr>\n",
       "    <tr>\n",
       "      <th>6529</th>\n",
       "      <td>0.364331</td>\n",
       "      <td>0.021755</td>\n",
       "      <td>0.003203</td>\n",
       "      <td>0.00040</td>\n",
       "      <td>0.5</td>\n",
       "      <td>0.25</td>\n",
       "      <td>0.01</td>\n",
       "      <td>8</td>\n",
       "      <td>1</td>\n",
       "      <td>0</td>\n",
       "      <td>2</td>\n",
       "      <td>{'colsample_bytree': 0.5, 'gamma': 0.25, 'lear...</td>\n",
       "      <td>0.863017</td>\n",
       "      <td>0.895248</td>\n",
       "      <td>0.870370</td>\n",
       "      <td>0.917508</td>\n",
       "      <td>0.931034</td>\n",
       "      <td>0.895436</td>\n",
       "      <td>0.026206</td>\n",
       "      <td>4</td>\n",
       "    </tr>\n",
       "    <tr>\n",
       "      <th>5249</th>\n",
       "      <td>0.392557</td>\n",
       "      <td>0.018794</td>\n",
       "      <td>0.003403</td>\n",
       "      <td>0.00049</td>\n",
       "      <td>0.5</td>\n",
       "      <td>0</td>\n",
       "      <td>0.01</td>\n",
       "      <td>8</td>\n",
       "      <td>1</td>\n",
       "      <td>0</td>\n",
       "      <td>2</td>\n",
       "      <td>{'colsample_bytree': 0.5, 'gamma': 0, 'learnin...</td>\n",
       "      <td>0.863843</td>\n",
       "      <td>0.895455</td>\n",
       "      <td>0.870370</td>\n",
       "      <td>0.916667</td>\n",
       "      <td>0.930408</td>\n",
       "      <td>0.895348</td>\n",
       "      <td>0.025691</td>\n",
       "      <td>5</td>\n",
       "    </tr>\n",
       "  </tbody>\n",
       "</table>\n",
       "</div>"
      ],
      "text/plain": [
       "      mean_fit_time  std_fit_time  mean_score_time  std_score_time  \\\n",
       "6593       0.451010      0.017251         0.003603         0.00049   \n",
       "5313       0.461620      0.021133         0.003803         0.00040   \n",
       "7873       0.437798      0.034923         0.003803         0.00040   \n",
       "6529       0.364331      0.021755         0.003203         0.00040   \n",
       "5249       0.392557      0.018794         0.003403         0.00049   \n",
       "\n",
       "     param_colsample_bytree param_gamma param_learning_rate param_max_depth  \\\n",
       "6593                    0.5        0.25                0.01              10   \n",
       "5313                    0.5           0                0.01              10   \n",
       "7873                    0.5         0.5                0.01              10   \n",
       "6529                    0.5        0.25                0.01               8   \n",
       "5249                    0.5           0                0.01               8   \n",
       "\n",
       "     param_min_child_weight param_reg_lambda param_scale_pos_weight  \\\n",
       "6593                      1                0                      2   \n",
       "5313                      1                0                      2   \n",
       "7873                      1                0                      2   \n",
       "6529                      1                0                      2   \n",
       "5249                      1                0                      2   \n",
       "\n",
       "                                                 params  split0_test_score  \\\n",
       "6593  {'colsample_bytree': 0.5, 'gamma': 0.25, 'lear...           0.863843   \n",
       "5313  {'colsample_bytree': 0.5, 'gamma': 0, 'learnin...           0.864463   \n",
       "7873  {'colsample_bytree': 0.5, 'gamma': 0.5, 'learn...           0.863223   \n",
       "6529  {'colsample_bytree': 0.5, 'gamma': 0.25, 'lear...           0.863017   \n",
       "5249  {'colsample_bytree': 0.5, 'gamma': 0, 'learnin...           0.863843   \n",
       "\n",
       "      split1_test_score  split2_test_score  split3_test_score  \\\n",
       "6593           0.897727           0.870581           0.917298   \n",
       "5313           0.897314           0.870581           0.915194   \n",
       "7873           0.898554           0.868897           0.917508   \n",
       "6529           0.895248           0.870370           0.917508   \n",
       "5249           0.895455           0.870370           0.916667   \n",
       "\n",
       "      split4_test_score  mean_test_score  std_test_score  rank_test_score  \n",
       "6593           0.933960         0.896682        0.026741                1  \n",
       "5313           0.933333         0.896177        0.026094                2  \n",
       "7873           0.930617         0.895760        0.026367                3  \n",
       "6529           0.931034         0.895436        0.026206                4  \n",
       "5249           0.930408         0.895348        0.025691                5  "
      ]
     },
     "execution_count": 19,
     "metadata": {},
     "output_type": "execute_result"
    }
   ],
   "source": [
    "# print results in a dataframe\n",
    "pd.DataFrame(gs.cv_results_).sort_values(by='rank_test_score').head(5)"
   ]
  },
  {
   "cell_type": "markdown",
   "id": "numerous-spray",
   "metadata": {},
   "source": [
    "Then with Randomized Search CV, which samples the hypermarameter combinations and should be much faster."
   ]
  },
  {
   "cell_type": "code",
   "execution_count": 20,
   "id": "altered-resistance",
   "metadata": {},
   "outputs": [
    {
     "name": "stdout",
     "output_type": "stream",
     "text": [
      "Fitting 5 folds for each of 500 candidates, totalling 2500 fits\n",
      "[20:27:47] WARNING: C:/Users/Administrator/workspace/xgboost-win64_release_1.4.0/src/learner.cc:1095: Starting in XGBoost 1.3.0, the default evaluation metric used with the objective 'binary:logistic' was changed from 'error' to 'logloss'. Explicitly set eval_metric if you'd like to restore the old behavior.\n",
      "Best Accuracy: 89.53 %\n",
      "Best Parameters:  {'scale_pos_weight': 2, 'reg_lambda': 0, 'min_child_weight': 1, 'max_depth': 8, 'learning_rate': 0.01, 'gamma': 0, 'colsample_bytree': 0.5}\n",
      "Time: 54.63\n"
     ]
    }
   ],
   "source": [
    "#start timer\n",
    "start = timeit.default_timer()\n",
    "\n",
    "#run grid cv and print parameters\n",
    "rs.fit(X_train, y_train)\n",
    "print(\"Best Accuracy: {:.2f} %\".format(rs.best_score_*100))\n",
    "print(\"Best Parameters: \", rs.best_params_)\n",
    "\n",
    "#end timer and print\n",
    "stop = timeit.default_timer()\n",
    "print('Time: {:.2f}'.format(stop - start))"
   ]
  },
  {
   "cell_type": "code",
   "execution_count": 21,
   "id": "shared-fifteen",
   "metadata": {},
   "outputs": [
    {
     "data": {
      "text/html": [
       "<div>\n",
       "<style scoped>\n",
       "    .dataframe tbody tr th:only-of-type {\n",
       "        vertical-align: middle;\n",
       "    }\n",
       "\n",
       "    .dataframe tbody tr th {\n",
       "        vertical-align: top;\n",
       "    }\n",
       "\n",
       "    .dataframe thead th {\n",
       "        text-align: right;\n",
       "    }\n",
       "</style>\n",
       "<table border=\"1\" class=\"dataframe\">\n",
       "  <thead>\n",
       "    <tr style=\"text-align: right;\">\n",
       "      <th></th>\n",
       "      <th>mean_fit_time</th>\n",
       "      <th>std_fit_time</th>\n",
       "      <th>mean_score_time</th>\n",
       "      <th>std_score_time</th>\n",
       "      <th>param_scale_pos_weight</th>\n",
       "      <th>param_reg_lambda</th>\n",
       "      <th>param_min_child_weight</th>\n",
       "      <th>param_max_depth</th>\n",
       "      <th>param_learning_rate</th>\n",
       "      <th>param_gamma</th>\n",
       "      <th>param_colsample_bytree</th>\n",
       "      <th>params</th>\n",
       "      <th>split0_test_score</th>\n",
       "      <th>split1_test_score</th>\n",
       "      <th>split2_test_score</th>\n",
       "      <th>split3_test_score</th>\n",
       "      <th>split4_test_score</th>\n",
       "      <th>mean_test_score</th>\n",
       "      <th>std_test_score</th>\n",
       "      <th>rank_test_score</th>\n",
       "    </tr>\n",
       "  </thead>\n",
       "  <tbody>\n",
       "    <tr>\n",
       "      <th>42</th>\n",
       "      <td>0.409172</td>\n",
       "      <td>0.003871</td>\n",
       "      <td>0.003203</td>\n",
       "      <td>0.00040</td>\n",
       "      <td>2</td>\n",
       "      <td>0</td>\n",
       "      <td>1</td>\n",
       "      <td>8</td>\n",
       "      <td>0.01</td>\n",
       "      <td>0</td>\n",
       "      <td>0.5</td>\n",
       "      <td>{'scale_pos_weight': 2, 'reg_lambda': 0, 'min_...</td>\n",
       "      <td>0.863843</td>\n",
       "      <td>0.895455</td>\n",
       "      <td>0.870370</td>\n",
       "      <td>0.916667</td>\n",
       "      <td>0.930408</td>\n",
       "      <td>0.895348</td>\n",
       "      <td>0.025691</td>\n",
       "      <td>1</td>\n",
       "    </tr>\n",
       "    <tr>\n",
       "      <th>327</th>\n",
       "      <td>0.424185</td>\n",
       "      <td>0.020192</td>\n",
       "      <td>0.003203</td>\n",
       "      <td>0.00040</td>\n",
       "      <td>3</td>\n",
       "      <td>0</td>\n",
       "      <td>1</td>\n",
       "      <td>8</td>\n",
       "      <td>0.01</td>\n",
       "      <td>0.5</td>\n",
       "      <td>0.5</td>\n",
       "      <td>{'scale_pos_weight': 3, 'reg_lambda': 0, 'min_...</td>\n",
       "      <td>0.866736</td>\n",
       "      <td>0.893595</td>\n",
       "      <td>0.866267</td>\n",
       "      <td>0.912247</td>\n",
       "      <td>0.927273</td>\n",
       "      <td>0.893224</td>\n",
       "      <td>0.024289</td>\n",
       "      <td>2</td>\n",
       "    </tr>\n",
       "    <tr>\n",
       "      <th>217</th>\n",
       "      <td>0.518872</td>\n",
       "      <td>0.016478</td>\n",
       "      <td>0.003603</td>\n",
       "      <td>0.00049</td>\n",
       "      <td>4</td>\n",
       "      <td>0</td>\n",
       "      <td>1</td>\n",
       "      <td>10</td>\n",
       "      <td>0.01</td>\n",
       "      <td>0</td>\n",
       "      <td>0.5</td>\n",
       "      <td>{'scale_pos_weight': 4, 'reg_lambda': 0, 'min_...</td>\n",
       "      <td>0.869628</td>\n",
       "      <td>0.890496</td>\n",
       "      <td>0.864689</td>\n",
       "      <td>0.914562</td>\n",
       "      <td>0.923929</td>\n",
       "      <td>0.892661</td>\n",
       "      <td>0.023558</td>\n",
       "      <td>3</td>\n",
       "    </tr>\n",
       "    <tr>\n",
       "      <th>60</th>\n",
       "      <td>0.410173</td>\n",
       "      <td>0.019485</td>\n",
       "      <td>0.003403</td>\n",
       "      <td>0.00049</td>\n",
       "      <td>2</td>\n",
       "      <td>1</td>\n",
       "      <td>1</td>\n",
       "      <td>10</td>\n",
       "      <td>0.01</td>\n",
       "      <td>0.5</td>\n",
       "      <td>0.5</td>\n",
       "      <td>{'scale_pos_weight': 2, 'reg_lambda': 1, 'min_...</td>\n",
       "      <td>0.861467</td>\n",
       "      <td>0.891322</td>\n",
       "      <td>0.864373</td>\n",
       "      <td>0.916772</td>\n",
       "      <td>0.921630</td>\n",
       "      <td>0.891113</td>\n",
       "      <td>0.025233</td>\n",
       "      <td>4</td>\n",
       "    </tr>\n",
       "    <tr>\n",
       "      <th>263</th>\n",
       "      <td>0.235414</td>\n",
       "      <td>0.006215</td>\n",
       "      <td>0.003403</td>\n",
       "      <td>0.00049</td>\n",
       "      <td>3</td>\n",
       "      <td>0</td>\n",
       "      <td>5</td>\n",
       "      <td>6</td>\n",
       "      <td>0.2</td>\n",
       "      <td>1</td>\n",
       "      <td>0.5</td>\n",
       "      <td>{'scale_pos_weight': 3, 'reg_lambda': 0, 'min_...</td>\n",
       "      <td>0.854959</td>\n",
       "      <td>0.892149</td>\n",
       "      <td>0.872054</td>\n",
       "      <td>0.905934</td>\n",
       "      <td>0.916614</td>\n",
       "      <td>0.888342</td>\n",
       "      <td>0.022374</td>\n",
       "      <td>5</td>\n",
       "    </tr>\n",
       "  </tbody>\n",
       "</table>\n",
       "</div>"
      ],
      "text/plain": [
       "     mean_fit_time  std_fit_time  mean_score_time  std_score_time  \\\n",
       "42        0.409172      0.003871         0.003203         0.00040   \n",
       "327       0.424185      0.020192         0.003203         0.00040   \n",
       "217       0.518872      0.016478         0.003603         0.00049   \n",
       "60        0.410173      0.019485         0.003403         0.00049   \n",
       "263       0.235414      0.006215         0.003403         0.00049   \n",
       "\n",
       "    param_scale_pos_weight param_reg_lambda param_min_child_weight  \\\n",
       "42                       2                0                      1   \n",
       "327                      3                0                      1   \n",
       "217                      4                0                      1   \n",
       "60                       2                1                      1   \n",
       "263                      3                0                      5   \n",
       "\n",
       "    param_max_depth param_learning_rate param_gamma param_colsample_bytree  \\\n",
       "42                8                0.01           0                    0.5   \n",
       "327               8                0.01         0.5                    0.5   \n",
       "217              10                0.01           0                    0.5   \n",
       "60               10                0.01         0.5                    0.5   \n",
       "263               6                 0.2           1                    0.5   \n",
       "\n",
       "                                                params  split0_test_score  \\\n",
       "42   {'scale_pos_weight': 2, 'reg_lambda': 0, 'min_...           0.863843   \n",
       "327  {'scale_pos_weight': 3, 'reg_lambda': 0, 'min_...           0.866736   \n",
       "217  {'scale_pos_weight': 4, 'reg_lambda': 0, 'min_...           0.869628   \n",
       "60   {'scale_pos_weight': 2, 'reg_lambda': 1, 'min_...           0.861467   \n",
       "263  {'scale_pos_weight': 3, 'reg_lambda': 0, 'min_...           0.854959   \n",
       "\n",
       "     split1_test_score  split2_test_score  split3_test_score  \\\n",
       "42            0.895455           0.870370           0.916667   \n",
       "327           0.893595           0.866267           0.912247   \n",
       "217           0.890496           0.864689           0.914562   \n",
       "60            0.891322           0.864373           0.916772   \n",
       "263           0.892149           0.872054           0.905934   \n",
       "\n",
       "     split4_test_score  mean_test_score  std_test_score  rank_test_score  \n",
       "42            0.930408         0.895348        0.025691                1  \n",
       "327           0.927273         0.893224        0.024289                2  \n",
       "217           0.923929         0.892661        0.023558                3  \n",
       "60            0.921630         0.891113        0.025233                4  \n",
       "263           0.916614         0.888342        0.022374                5  "
      ]
     },
     "execution_count": 21,
     "metadata": {},
     "output_type": "execute_result"
    }
   ],
   "source": [
    "# print results in a dataframe\n",
    "pd.DataFrame(rs.cv_results_).sort_values(by='rank_test_score').head(5)"
   ]
  },
  {
   "cell_type": "markdown",
   "id": "radio-billion",
   "metadata": {},
   "source": [
    "## Final XGBoost model and evaluation on the test set"
   ]
  },
  {
   "cell_type": "markdown",
   "id": "decimal-johnston",
   "metadata": {},
   "source": [
    "Here we build the final XGB model, with the optimized hyperparameters from Grid Search CV. "
   ]
  },
  {
   "cell_type": "markdown",
   "id": "victorian-defeat",
   "metadata": {},
   "source": [
    "### Randomized Search CV params\n",
    "'scale_pos_weight': 3, 'reg_lambda': 0, 'min_child_weight': 1, 'max_depth': 10, 'learning_rate': 0.05, 'gamma': 0.5, 'colsample_bytree': 0.3\n",
    "\n",
    "CV score = 81.97%, std = 0.0335"
   ]
  },
  {
   "cell_type": "markdown",
   "id": "analyzed-leonard",
   "metadata": {},
   "source": [
    "### Old Grid Search CV params\n",
    "\n",
    "colsample_bytree=0.5,\n",
    "gamma=0.25,\n",
    "learning_rate=0.01,\n",
    "max_depth=10,\n",
    "min_child_weight=1,\n",
    "reg_lambda=0,\n",
    "scale_pos_weight=2,\n",
    "use_label_encoder=False,\n",
    "random_state=420\n",
    "\n",
    "CV score = 84.4, std = 0.0372"
   ]
  },
  {
   "cell_type": "markdown",
   "id": "treated-praise",
   "metadata": {},
   "source": [
    "### 17 Grid Search CV params\n",
    "\n",
    "colsample_bytree': 0.3, 'gamma': 0.5, 'learning_rate': 0.05, 'max_depth': 10, 'min_child_weight': 1, 'reg_lambda': 0, 'scale_pos_weight': 2\n",
    "\n",
    "Accuracy: 82.96 %\n",
    "\n",
    "St.dev: 0.0324"
   ]
  },
  {
   "cell_type": "code",
   "execution_count": 22,
   "id": "surgical-words",
   "metadata": {},
   "outputs": [
    {
     "name": "stdout",
     "output_type": "stream",
     "text": [
      "[20:32:17] WARNING: C:/Users/Administrator/workspace/xgboost-win64_release_1.4.0/src/learner.cc:1095: Starting in XGBoost 1.3.0, the default evaluation metric used with the objective 'binary:logistic' was changed from 'error' to 'logloss'. Explicitly set eval_metric if you'd like to restore the old behavior.\n"
     ]
    },
    {
     "data": {
      "text/plain": [
       "XGBClassifier(base_score=0.5, booster='gbtree', colsample_bylevel=1,\n",
       "              colsample_bynode=1, colsample_bytree=0.5, gamma=0.25, gpu_id=-1,\n",
       "              importance_type='gain', interaction_constraints='',\n",
       "              learning_rate=0.01, max_delta_step=0, max_depth=10,\n",
       "              min_child_weight=1, missing=nan, monotone_constraints='()',\n",
       "              n_estimators=100, n_jobs=12, num_parallel_tree=1,\n",
       "              random_state=420, reg_alpha=0, reg_lambda=0, scale_pos_weight=2,\n",
       "              subsample=1, tree_method='exact', use_label_encoder=False,\n",
       "              validate_parameters=1, verbosity=None)"
      ]
     },
     "execution_count": 22,
     "metadata": {},
     "output_type": "execute_result"
    }
   ],
   "source": [
    "clf = xgb.XGBClassifier(objective='binary:logistic', \n",
    "                        colsample_bytree=0.5,\n",
    "                        gamma=0.25,\n",
    "                        learning_rate=0.01,\n",
    "                        max_depth=10,\n",
    "                        min_child_weight=1,\n",
    "                        reg_lambda=0,\n",
    "                        scale_pos_weight=2,\n",
    "                        use_label_encoder=False,\n",
    "                        random_state=seed\n",
    "                        )\n",
    "clf.fit(X_train, y_train)"
   ]
  },
  {
   "cell_type": "code",
   "execution_count": 23,
   "id": "deadly-oakland",
   "metadata": {},
   "outputs": [
    {
     "name": "stdout",
     "output_type": "stream",
     "text": [
      "Accuracy: 81.01 %\n"
     ]
    },
    {
     "data": {
      "text/plain": [
       "<sklearn.metrics._plot.confusion_matrix.ConfusionMatrixDisplay at 0x1c0092ac4f0>"
      ]
     },
     "execution_count": 23,
     "metadata": {},
     "output_type": "execute_result"
    },
    {
     "data": {
      "image/png": "[encoded data removed]",
      "text/plain": [
       "<Figure size 432x288 with 2 Axes>"
      ]
     },
     "metadata": {
      "needs_background": "light"
     },
     "output_type": "display_data"
    }
   ],
   "source": [
    "# predict on the test set\n",
    "y_pred = clf.predict(X_test)\n",
    "\n",
    "# print accuracy and draw the confusion matrix\n",
    "acc = accuracy_score(y_test, y_pred)\n",
    "cm = confusion_matrix(y_test, y_pred)\n",
    "print('Accuracy: {:.2f} %'.format(acc * 100))\n",
    "\n",
    "plot_confusion_matrix(clf, \n",
    "                     X_test,\n",
    "                     y_test, display_labels=['Did not survive', 'Survived'])"
   ]
  },
  {
   "cell_type": "code",
   "execution_count": 24,
   "id": "personal-biography",
   "metadata": {},
   "outputs": [
    {
     "name": "stdout",
     "output_type": "stream",
     "text": [
      "[20:33:16] WARNING: C:/Users/Administrator/workspace/xgboost-win64_release_1.4.0/src/learner.cc:1095: Starting in XGBoost 1.3.0, the default evaluation metric used with the objective 'binary:logistic' was changed from 'error' to 'logloss'. Explicitly set eval_metric if you'd like to restore the old behavior.\n",
      "[20:33:17] WARNING: C:/Users/Administrator/workspace/xgboost-win64_release_1.4.0/src/learner.cc:1095: Starting in XGBoost 1.3.0, the default evaluation metric used with the objective 'binary:logistic' was changed from 'error' to 'logloss'. Explicitly set eval_metric if you'd like to restore the old behavior.\n",
      "[20:33:17] WARNING: C:/Users/Administrator/workspace/xgboost-win64_release_1.4.0/src/learner.cc:1095: Starting in XGBoost 1.3.0, the default evaluation metric used with the objective 'binary:logistic' was changed from 'error' to 'logloss'. Explicitly set eval_metric if you'd like to restore the old behavior.\n",
      "[20:33:17] WARNING: C:/Users/Administrator/workspace/xgboost-win64_release_1.4.0/src/learner.cc:1095: Starting in XGBoost 1.3.0, the default evaluation metric used with the objective 'binary:logistic' was changed from 'error' to 'logloss'. Explicitly set eval_metric if you'd like to restore the old behavior.\n",
      "[20:33:17] WARNING: C:/Users/Administrator/workspace/xgboost-win64_release_1.4.0/src/learner.cc:1095: Starting in XGBoost 1.3.0, the default evaluation metric used with the objective 'binary:logistic' was changed from 'error' to 'logloss'. Explicitly set eval_metric if you'd like to restore the old behavior.\n",
      "[20:33:17] WARNING: C:/Users/Administrator/workspace/xgboost-win64_release_1.4.0/src/learner.cc:1095: Starting in XGBoost 1.3.0, the default evaluation metric used with the objective 'binary:logistic' was changed from 'error' to 'logloss'. Explicitly set eval_metric if you'd like to restore the old behavior.\n",
      "[20:33:17] WARNING: C:/Users/Administrator/workspace/xgboost-win64_release_1.4.0/src/learner.cc:1095: Starting in XGBoost 1.3.0, the default evaluation metric used with the objective 'binary:logistic' was changed from 'error' to 'logloss'. Explicitly set eval_metric if you'd like to restore the old behavior.\n",
      "[20:33:17] WARNING: C:/Users/Administrator/workspace/xgboost-win64_release_1.4.0/src/learner.cc:1095: Starting in XGBoost 1.3.0, the default evaluation metric used with the objective 'binary:logistic' was changed from 'error' to 'logloss'. Explicitly set eval_metric if you'd like to restore the old behavior.\n",
      "[20:33:17] WARNING: C:/Users/Administrator/workspace/xgboost-win64_release_1.4.0/src/learner.cc:1095: Starting in XGBoost 1.3.0, the default evaluation metric used with the objective 'binary:logistic' was changed from 'error' to 'logloss'. Explicitly set eval_metric if you'd like to restore the old behavior.\n",
      "[20:33:17] WARNING: C:/Users/Administrator/workspace/xgboost-win64_release_1.4.0/src/learner.cc:1095: Starting in XGBoost 1.3.0, the default evaluation metric used with the objective 'binary:logistic' was changed from 'error' to 'logloss'. Explicitly set eval_metric if you'd like to restore the old behavior.\n",
      "[20:33:18] WARNING: C:/Users/Administrator/workspace/xgboost-win64_release_1.4.0/src/learner.cc:1095: Starting in XGBoost 1.3.0, the default evaluation metric used with the objective 'binary:logistic' was changed from 'error' to 'logloss'. Explicitly set eval_metric if you'd like to restore the old behavior.\n",
      "[20:33:18] WARNING: C:/Users/Administrator/workspace/xgboost-win64_release_1.4.0/src/learner.cc:1095: Starting in XGBoost 1.3.0, the default evaluation metric used with the objective 'binary:logistic' was changed from 'error' to 'logloss'. Explicitly set eval_metric if you'd like to restore the old behavior.\n",
      "[20:33:18] WARNING: C:/Users/Administrator/workspace/xgboost-win64_release_1.4.0/src/learner.cc:1095: Starting in XGBoost 1.3.0, the default evaluation metric used with the objective 'binary:logistic' was changed from 'error' to 'logloss'. Explicitly set eval_metric if you'd like to restore the old behavior.\n",
      "[20:33:18] WARNING: C:/Users/Administrator/workspace/xgboost-win64_release_1.4.0/src/learner.cc:1095: Starting in XGBoost 1.3.0, the default evaluation metric used with the objective 'binary:logistic' was changed from 'error' to 'logloss'. Explicitly set eval_metric if you'd like to restore the old behavior.\n",
      "[20:33:18] WARNING: C:/Users/Administrator/workspace/xgboost-win64_release_1.4.0/src/learner.cc:1095: Starting in XGBoost 1.3.0, the default evaluation metric used with the objective 'binary:logistic' was changed from 'error' to 'logloss'. Explicitly set eval_metric if you'd like to restore the old behavior.\n",
      "[20:33:18] WARNING: C:/Users/Administrator/workspace/xgboost-win64_release_1.4.0/src/learner.cc:1095: Starting in XGBoost 1.3.0, the default evaluation metric used with the objective 'binary:logistic' was changed from 'error' to 'logloss'. Explicitly set eval_metric if you'd like to restore the old behavior.\n",
      "[20:33:18] WARNING: C:/Users/Administrator/workspace/xgboost-win64_release_1.4.0/src/learner.cc:1095: Starting in XGBoost 1.3.0, the default evaluation metric used with the objective 'binary:logistic' was changed from 'error' to 'logloss'. Explicitly set eval_metric if you'd like to restore the old behavior.\n",
      "[20:33:18] WARNING: C:/Users/Administrator/workspace/xgboost-win64_release_1.4.0/src/learner.cc:1095: Starting in XGBoost 1.3.0, the default evaluation metric used with the objective 'binary:logistic' was changed from 'error' to 'logloss'. Explicitly set eval_metric if you'd like to restore the old behavior.\n",
      "[20:33:19] WARNING: C:/Users/Administrator/workspace/xgboost-win64_release_1.4.0/src/learner.cc:1095: Starting in XGBoost 1.3.0, the default evaluation metric used with the objective 'binary:logistic' was changed from 'error' to 'logloss'. Explicitly set eval_metric if you'd like to restore the old behavior.\n",
      "[20:33:19] WARNING: C:/Users/Administrator/workspace/xgboost-win64_release_1.4.0/src/learner.cc:1095: Starting in XGBoost 1.3.0, the default evaluation metric used with the objective 'binary:logistic' was changed from 'error' to 'logloss'. Explicitly set eval_metric if you'd like to restore the old behavior.\n",
      "[20:33:19] WARNING: C:/Users/Administrator/workspace/xgboost-win64_release_1.4.0/src/learner.cc:1095: Starting in XGBoost 1.3.0, the default evaluation metric used with the objective 'binary:logistic' was changed from 'error' to 'logloss'. Explicitly set eval_metric if you'd like to restore the old behavior.\n",
      "[20:33:19] WARNING: C:/Users/Administrator/workspace/xgboost-win64_release_1.4.0/src/learner.cc:1095: Starting in XGBoost 1.3.0, the default evaluation metric used with the objective 'binary:logistic' was changed from 'error' to 'logloss'. Explicitly set eval_metric if you'd like to restore the old behavior.\n",
      "[20:33:19] WARNING: C:/Users/Administrator/workspace/xgboost-win64_release_1.4.0/src/learner.cc:1095: Starting in XGBoost 1.3.0, the default evaluation metric used with the objective 'binary:logistic' was changed from 'error' to 'logloss'. Explicitly set eval_metric if you'd like to restore the old behavior.\n",
      "[20:33:19] WARNING: C:/Users/Administrator/workspace/xgboost-win64_release_1.4.0/src/learner.cc:1095: Starting in XGBoost 1.3.0, the default evaluation metric used with the objective 'binary:logistic' was changed from 'error' to 'logloss'. Explicitly set eval_metric if you'd like to restore the old behavior.\n",
      "[20:33:19] WARNING: C:/Users/Administrator/workspace/xgboost-win64_release_1.4.0/src/learner.cc:1095: Starting in XGBoost 1.3.0, the default evaluation metric used with the objective 'binary:logistic' was changed from 'error' to 'logloss'. Explicitly set eval_metric if you'd like to restore the old behavior.\n",
      "[20:33:19] WARNING: C:/Users/Administrator/workspace/xgboost-win64_release_1.4.0/src/learner.cc:1095: Starting in XGBoost 1.3.0, the default evaluation metric used with the objective 'binary:logistic' was changed from 'error' to 'logloss'. Explicitly set eval_metric if you'd like to restore the old behavior.\n",
      "[20:33:20] WARNING: C:/Users/Administrator/workspace/xgboost-win64_release_1.4.0/src/learner.cc:1095: Starting in XGBoost 1.3.0, the default evaluation metric used with the objective 'binary:logistic' was changed from 'error' to 'logloss'. Explicitly set eval_metric if you'd like to restore the old behavior.\n",
      "[20:33:20] WARNING: C:/Users/Administrator/workspace/xgboost-win64_release_1.4.0/src/learner.cc:1095: Starting in XGBoost 1.3.0, the default evaluation metric used with the objective 'binary:logistic' was changed from 'error' to 'logloss'. Explicitly set eval_metric if you'd like to restore the old behavior.\n"
     ]
    },
    {
     "name": "stdout",
     "output_type": "stream",
     "text": [
      "[20:33:20] WARNING: C:/Users/Administrator/workspace/xgboost-win64_release_1.4.0/src/learner.cc:1095: Starting in XGBoost 1.3.0, the default evaluation metric used with the objective 'binary:logistic' was changed from 'error' to 'logloss'. Explicitly set eval_metric if you'd like to restore the old behavior.\n",
      "[20:33:20] WARNING: C:/Users/Administrator/workspace/xgboost-win64_release_1.4.0/src/learner.cc:1095: Starting in XGBoost 1.3.0, the default evaluation metric used with the objective 'binary:logistic' was changed from 'error' to 'logloss'. Explicitly set eval_metric if you'd like to restore the old behavior.\n",
      "[20:33:20] WARNING: C:/Users/Administrator/workspace/xgboost-win64_release_1.4.0/src/learner.cc:1095: Starting in XGBoost 1.3.0, the default evaluation metric used with the objective 'binary:logistic' was changed from 'error' to 'logloss'. Explicitly set eval_metric if you'd like to restore the old behavior.\n",
      "[20:33:20] WARNING: C:/Users/Administrator/workspace/xgboost-win64_release_1.4.0/src/learner.cc:1095: Starting in XGBoost 1.3.0, the default evaluation metric used with the objective 'binary:logistic' was changed from 'error' to 'logloss'. Explicitly set eval_metric if you'd like to restore the old behavior.\n",
      "[20:33:20] WARNING: C:/Users/Administrator/workspace/xgboost-win64_release_1.4.0/src/learner.cc:1095: Starting in XGBoost 1.3.0, the default evaluation metric used with the objective 'binary:logistic' was changed from 'error' to 'logloss'. Explicitly set eval_metric if you'd like to restore the old behavior.\n",
      "[20:33:20] WARNING: C:/Users/Administrator/workspace/xgboost-win64_release_1.4.0/src/learner.cc:1095: Starting in XGBoost 1.3.0, the default evaluation metric used with the objective 'binary:logistic' was changed from 'error' to 'logloss'. Explicitly set eval_metric if you'd like to restore the old behavior.\n",
      "[20:33:21] WARNING: C:/Users/Administrator/workspace/xgboost-win64_release_1.4.0/src/learner.cc:1095: Starting in XGBoost 1.3.0, the default evaluation metric used with the objective 'binary:logistic' was changed from 'error' to 'logloss'. Explicitly set eval_metric if you'd like to restore the old behavior.\n",
      "[20:33:21] WARNING: C:/Users/Administrator/workspace/xgboost-win64_release_1.4.0/src/learner.cc:1095: Starting in XGBoost 1.3.0, the default evaluation metric used with the objective 'binary:logistic' was changed from 'error' to 'logloss'. Explicitly set eval_metric if you'd like to restore the old behavior.\n",
      "[20:33:21] WARNING: C:/Users/Administrator/workspace/xgboost-win64_release_1.4.0/src/learner.cc:1095: Starting in XGBoost 1.3.0, the default evaluation metric used with the objective 'binary:logistic' was changed from 'error' to 'logloss'. Explicitly set eval_metric if you'd like to restore the old behavior.\n",
      "[20:33:21] WARNING: C:/Users/Administrator/workspace/xgboost-win64_release_1.4.0/src/learner.cc:1095: Starting in XGBoost 1.3.0, the default evaluation metric used with the objective 'binary:logistic' was changed from 'error' to 'logloss'. Explicitly set eval_metric if you'd like to restore the old behavior.\n",
      "[20:33:21] WARNING: C:/Users/Administrator/workspace/xgboost-win64_release_1.4.0/src/learner.cc:1095: Starting in XGBoost 1.3.0, the default evaluation metric used with the objective 'binary:logistic' was changed from 'error' to 'logloss'. Explicitly set eval_metric if you'd like to restore the old behavior.\n",
      "[20:33:21] WARNING: C:/Users/Administrator/workspace/xgboost-win64_release_1.4.0/src/learner.cc:1095: Starting in XGBoost 1.3.0, the default evaluation metric used with the objective 'binary:logistic' was changed from 'error' to 'logloss'. Explicitly set eval_metric if you'd like to restore the old behavior.\n",
      "[20:33:21] WARNING: C:/Users/Administrator/workspace/xgboost-win64_release_1.4.0/src/learner.cc:1095: Starting in XGBoost 1.3.0, the default evaluation metric used with the objective 'binary:logistic' was changed from 'error' to 'logloss'. Explicitly set eval_metric if you'd like to restore the old behavior.\n",
      "[20:33:21] WARNING: C:/Users/Administrator/workspace/xgboost-win64_release_1.4.0/src/learner.cc:1095: Starting in XGBoost 1.3.0, the default evaluation metric used with the objective 'binary:logistic' was changed from 'error' to 'logloss'. Explicitly set eval_metric if you'd like to restore the old behavior.\n",
      "[20:33:22] WARNING: C:/Users/Administrator/workspace/xgboost-win64_release_1.4.0/src/learner.cc:1095: Starting in XGBoost 1.3.0, the default evaluation metric used with the objective 'binary:logistic' was changed from 'error' to 'logloss'. Explicitly set eval_metric if you'd like to restore the old behavior.\n",
      "[20:33:22] WARNING: C:/Users/Administrator/workspace/xgboost-win64_release_1.4.0/src/learner.cc:1095: Starting in XGBoost 1.3.0, the default evaluation metric used with the objective 'binary:logistic' was changed from 'error' to 'logloss'. Explicitly set eval_metric if you'd like to restore the old behavior.\n",
      "[20:33:22] WARNING: C:/Users/Administrator/workspace/xgboost-win64_release_1.4.0/src/learner.cc:1095: Starting in XGBoost 1.3.0, the default evaluation metric used with the objective 'binary:logistic' was changed from 'error' to 'logloss'. Explicitly set eval_metric if you'd like to restore the old behavior.\n",
      "[20:33:22] WARNING: C:/Users/Administrator/workspace/xgboost-win64_release_1.4.0/src/learner.cc:1095: Starting in XGBoost 1.3.0, the default evaluation metric used with the objective 'binary:logistic' was changed from 'error' to 'logloss'. Explicitly set eval_metric if you'd like to restore the old behavior.\n",
      "[20:33:22] WARNING: C:/Users/Administrator/workspace/xgboost-win64_release_1.4.0/src/learner.cc:1095: Starting in XGBoost 1.3.0, the default evaluation metric used with the objective 'binary:logistic' was changed from 'error' to 'logloss'. Explicitly set eval_metric if you'd like to restore the old behavior.\n",
      "[20:33:22] WARNING: C:/Users/Administrator/workspace/xgboost-win64_release_1.4.0/src/learner.cc:1095: Starting in XGBoost 1.3.0, the default evaluation metric used with the objective 'binary:logistic' was changed from 'error' to 'logloss'. Explicitly set eval_metric if you'd like to restore the old behavior.\n",
      "[20:33:22] WARNING: C:/Users/Administrator/workspace/xgboost-win64_release_1.4.0/src/learner.cc:1095: Starting in XGBoost 1.3.0, the default evaluation metric used with the objective 'binary:logistic' was changed from 'error' to 'logloss'. Explicitly set eval_metric if you'd like to restore the old behavior.\n",
      "[20:33:22] WARNING: C:/Users/Administrator/workspace/xgboost-win64_release_1.4.0/src/learner.cc:1095: Starting in XGBoost 1.3.0, the default evaluation metric used with the objective 'binary:logistic' was changed from 'error' to 'logloss'. Explicitly set eval_metric if you'd like to restore the old behavior.\n",
      "scores:  [0.9        0.8988764  0.85393258 0.73033708 0.83146067 0.80898876\n",
      " 0.82022472 0.79775281 0.86516854 0.88764045 0.86666667 0.88764045\n",
      " 0.83146067 0.82022472 0.78651685 0.86516854 0.84269663 0.83146067\n",
      " 0.87640449 0.88764045 0.78888889 0.85393258 0.80898876 0.83146067\n",
      " 0.8988764  0.85393258 0.87640449 0.84269663 0.88764045 0.83146067\n",
      " 0.85555556 0.85393258 0.84269663 0.84269663 0.83146067 0.82022472\n",
      " 0.84269663 0.85393258 0.76404494 0.87640449 0.82222222 0.88764045\n",
      " 0.83146067 0.84269663 0.79775281 0.82022472 0.85393258 0.92134831\n",
      " 0.79775281 0.87640449]\n",
      "Accuracy: 84.40 %\n",
      "St.dev: 0.0372\n"
     ]
    }
   ],
   "source": [
    "# Create the cv tactic (repeated and stratified 10-fold).\n",
    "cv = RepeatedStratifiedKFold(n_splits=10, n_repeats=5, random_state=seed)\n",
    "\n",
    "# Get the scores and return the output.\n",
    "scores = cross_val_score(clf, X, y, cv=cv)\n",
    "\n",
    "print('scores: ', scores )\n",
    "print('Accuracy: {:.2f} %'.format(scores.mean() * 100))\n",
    "print('St.dev: {:.4f}'.format(scores.std()))"
   ]
  },
  {
   "cell_type": "markdown",
   "id": "boolean-beauty",
   "metadata": {},
   "source": [
    "CV results show that we can expect an accuracy of 84.4% from the tuned XGBoost. This is about 0.2% increase from the preliminary model."
   ]
  }
 ],
 "metadata": {
  "kernelspec": {
   "display_name": "Python 3",
   "language": "python",
   "name": "python3"
  },
  "language_info": {
   "codemirror_mode": {
    "name": "ipython",
    "version": 3
   },
   "file_extension": ".py",
   "mimetype": "text/x-python",
   "name": "python",
   "nbconvert_exporter": "python",
   "pygments_lexer": "ipython3",
   "version": "3.9.1"
  }
 },
 "nbformat": 4,
 "nbformat_minor": 5
}

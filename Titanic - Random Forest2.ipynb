{
 "cells": [
  {
   "cell_type": "markdown",
   "id": "protected-consent",
   "metadata": {},
   "source": [
    "# Classification with Random Forest"
   ]
  },
  {
   "cell_type": "markdown",
   "id": "premium-failure",
   "metadata": {},
   "source": [
    "## Import the libraries"
   ]
  },
  {
   "cell_type": "code",
   "execution_count": 13,
   "id": "aggregate-iraqi",
   "metadata": {},
   "outputs": [],
   "source": [
    "import numpy as np\n",
    "import matplotlib.pyplot as plt\n",
    "import pandas as pd\n",
    "\n",
    "from sklearn.ensemble import RandomForestClassifier\n",
    "from sklearn.metrics import confusion_matrix, plot_confusion_matrix, accuracy_score\n",
    "from sklearn.model_selection import cross_val_score, RepeatedStratifiedKFold\n",
    "from sklearn.model_selection import GridSearchCV"
   ]
  },
  {
   "cell_type": "markdown",
   "id": "developmental-illinois",
   "metadata": {},
   "source": [
    "Set the rng seed."
   ]
  },
  {
   "cell_type": "code",
   "execution_count": 14,
   "id": "unnecessary-portugal",
   "metadata": {},
   "outputs": [],
   "source": [
    "seed = 17"
   ]
  },
  {
   "cell_type": "markdown",
   "id": "lesser-simon",
   "metadata": {},
   "source": [
    "## Import and view data"
   ]
  },
  {
   "cell_type": "code",
   "execution_count": 15,
   "id": "detected-athletics",
   "metadata": {},
   "outputs": [
    {
     "data": {
      "text/html": [
       "<div>\n",
       "<style scoped>\n",
       "    .dataframe tbody tr th:only-of-type {\n",
       "        vertical-align: middle;\n",
       "    }\n",
       "\n",
       "    .dataframe tbody tr th {\n",
       "        vertical-align: top;\n",
       "    }\n",
       "\n",
       "    .dataframe thead th {\n",
       "        text-align: right;\n",
       "    }\n",
       "</style>\n",
       "<table border=\"1\" class=\"dataframe\">\n",
       "  <thead>\n",
       "    <tr style=\"text-align: right;\">\n",
       "      <th></th>\n",
       "      <th>Survived</th>\n",
       "      <th>Pclass</th>\n",
       "      <th>Age</th>\n",
       "      <th>Fare</th>\n",
       "      <th>FamSize</th>\n",
       "      <th>Sex_male</th>\n",
       "      <th>Embarked_C</th>\n",
       "      <th>Embarked_Q</th>\n",
       "      <th>Embarked_S</th>\n",
       "      <th>Title_Master</th>\n",
       "      <th>...</th>\n",
       "      <th>Title_Other</th>\n",
       "      <th>Deck_A</th>\n",
       "      <th>Deck_B</th>\n",
       "      <th>Deck_C</th>\n",
       "      <th>Deck_D</th>\n",
       "      <th>Deck_E</th>\n",
       "      <th>Deck_F</th>\n",
       "      <th>Deck_G</th>\n",
       "      <th>Deck_M</th>\n",
       "      <th>Deck_T</th>\n",
       "    </tr>\n",
       "  </thead>\n",
       "  <tbody>\n",
       "    <tr>\n",
       "      <th>0</th>\n",
       "      <td>0.0</td>\n",
       "      <td>3</td>\n",
       "      <td>22.0</td>\n",
       "      <td>7.2500</td>\n",
       "      <td>1</td>\n",
       "      <td>1</td>\n",
       "      <td>0</td>\n",
       "      <td>0</td>\n",
       "      <td>1</td>\n",
       "      <td>0</td>\n",
       "      <td>...</td>\n",
       "      <td>0</td>\n",
       "      <td>0</td>\n",
       "      <td>0</td>\n",
       "      <td>0</td>\n",
       "      <td>0</td>\n",
       "      <td>0</td>\n",
       "      <td>0</td>\n",
       "      <td>0</td>\n",
       "      <td>1</td>\n",
       "      <td>0</td>\n",
       "    </tr>\n",
       "    <tr>\n",
       "      <th>1</th>\n",
       "      <td>1.0</td>\n",
       "      <td>1</td>\n",
       "      <td>38.0</td>\n",
       "      <td>71.2833</td>\n",
       "      <td>1</td>\n",
       "      <td>0</td>\n",
       "      <td>1</td>\n",
       "      <td>0</td>\n",
       "      <td>0</td>\n",
       "      <td>0</td>\n",
       "      <td>...</td>\n",
       "      <td>0</td>\n",
       "      <td>0</td>\n",
       "      <td>0</td>\n",
       "      <td>1</td>\n",
       "      <td>0</td>\n",
       "      <td>0</td>\n",
       "      <td>0</td>\n",
       "      <td>0</td>\n",
       "      <td>0</td>\n",
       "      <td>0</td>\n",
       "    </tr>\n",
       "    <tr>\n",
       "      <th>2</th>\n",
       "      <td>1.0</td>\n",
       "      <td>3</td>\n",
       "      <td>26.0</td>\n",
       "      <td>7.9250</td>\n",
       "      <td>0</td>\n",
       "      <td>0</td>\n",
       "      <td>0</td>\n",
       "      <td>0</td>\n",
       "      <td>1</td>\n",
       "      <td>0</td>\n",
       "      <td>...</td>\n",
       "      <td>0</td>\n",
       "      <td>0</td>\n",
       "      <td>0</td>\n",
       "      <td>0</td>\n",
       "      <td>0</td>\n",
       "      <td>0</td>\n",
       "      <td>0</td>\n",
       "      <td>0</td>\n",
       "      <td>1</td>\n",
       "      <td>0</td>\n",
       "    </tr>\n",
       "    <tr>\n",
       "      <th>3</th>\n",
       "      <td>1.0</td>\n",
       "      <td>1</td>\n",
       "      <td>35.0</td>\n",
       "      <td>53.1000</td>\n",
       "      <td>1</td>\n",
       "      <td>0</td>\n",
       "      <td>0</td>\n",
       "      <td>0</td>\n",
       "      <td>1</td>\n",
       "      <td>0</td>\n",
       "      <td>...</td>\n",
       "      <td>0</td>\n",
       "      <td>0</td>\n",
       "      <td>0</td>\n",
       "      <td>1</td>\n",
       "      <td>0</td>\n",
       "      <td>0</td>\n",
       "      <td>0</td>\n",
       "      <td>0</td>\n",
       "      <td>0</td>\n",
       "      <td>0</td>\n",
       "    </tr>\n",
       "    <tr>\n",
       "      <th>4</th>\n",
       "      <td>0.0</td>\n",
       "      <td>3</td>\n",
       "      <td>35.0</td>\n",
       "      <td>8.0500</td>\n",
       "      <td>0</td>\n",
       "      <td>1</td>\n",
       "      <td>0</td>\n",
       "      <td>0</td>\n",
       "      <td>1</td>\n",
       "      <td>0</td>\n",
       "      <td>...</td>\n",
       "      <td>0</td>\n",
       "      <td>0</td>\n",
       "      <td>0</td>\n",
       "      <td>0</td>\n",
       "      <td>0</td>\n",
       "      <td>0</td>\n",
       "      <td>0</td>\n",
       "      <td>0</td>\n",
       "      <td>1</td>\n",
       "      <td>0</td>\n",
       "    </tr>\n",
       "  </tbody>\n",
       "</table>\n",
       "<p>5 rows × 23 columns</p>\n",
       "</div>"
      ],
      "text/plain": [
       "   Survived  Pclass   Age     Fare  FamSize  Sex_male  Embarked_C  Embarked_Q  \\\n",
       "0       0.0       3  22.0   7.2500        1         1           0           0   \n",
       "1       1.0       1  38.0  71.2833        1         0           1           0   \n",
       "2       1.0       3  26.0   7.9250        0         0           0           0   \n",
       "3       1.0       1  35.0  53.1000        1         0           0           0   \n",
       "4       0.0       3  35.0   8.0500        0         1           0           0   \n",
       "\n",
       "   Embarked_S  Title_Master  ...  Title_Other  Deck_A  Deck_B  Deck_C  Deck_D  \\\n",
       "0           1             0  ...            0       0       0       0       0   \n",
       "1           0             0  ...            0       0       0       1       0   \n",
       "2           1             0  ...            0       0       0       0       0   \n",
       "3           1             0  ...            0       0       0       1       0   \n",
       "4           1             0  ...            0       0       0       0       0   \n",
       "\n",
       "   Deck_E  Deck_F  Deck_G  Deck_M  Deck_T  \n",
       "0       0       0       0       1       0  \n",
       "1       0       0       0       0       0  \n",
       "2       0       0       0       1       0  \n",
       "3       0       0       0       0       0  \n",
       "4       0       0       0       1       0  \n",
       "\n",
       "[5 rows x 23 columns]"
      ]
     },
     "metadata": {},
     "output_type": "display_data"
    },
    {
     "name": "stdout",
     "output_type": "stream",
     "text": [
      "dims:  (891, 23)\n"
     ]
    }
   ],
   "source": [
    "df = pd.read_csv(\"data/train_prepd_2.csv\")\n",
    "display(df.head())\n",
    "print('dims: ', df.shape)"
   ]
  },
  {
   "cell_type": "markdown",
   "id": "previous-sphere",
   "metadata": {},
   "source": [
    "Data have already been preprocessed, as part of the EDA step. Including one-hot encoding and imputation of missing values."
   ]
  },
  {
   "cell_type": "markdown",
   "id": "recorded-sally",
   "metadata": {},
   "source": [
    "Split into dependent and independent variables."
   ]
  },
  {
   "cell_type": "code",
   "execution_count": 16,
   "id": "gorgeous-showcase",
   "metadata": {},
   "outputs": [],
   "source": [
    "X = df.iloc[:, 1:]\n",
    "y = df.iloc[:, 0]"
   ]
  },
  {
   "cell_type": "markdown",
   "id": "future-springer",
   "metadata": {},
   "source": [
    "## Build a preliminary classification tree"
   ]
  },
  {
   "cell_type": "markdown",
   "id": "optional-batch",
   "metadata": {},
   "source": [
    "Split into testing and training data."
   ]
  },
  {
   "cell_type": "markdown",
   "id": "gorgeous-center",
   "metadata": {},
   "source": [
    "Data are somewhat imbalanced (38% survived). We'll be using stratification in the train/test splits as well in our cross-validation later on."
   ]
  },
  {
   "cell_type": "code",
   "execution_count": 17,
   "id": "accompanied-inspector",
   "metadata": {},
   "outputs": [],
   "source": [
    "from sklearn.model_selection import train_test_split\n",
    "X_train, X_test, y_train, y_test = train_test_split(X, y, test_size = 0.2, stratify=y, random_state = seed)"
   ]
  },
  {
   "cell_type": "markdown",
   "id": "canadian-metropolitan",
   "metadata": {},
   "source": [
    "Build and train a simple random forest classifier. Use to predict test values."
   ]
  },
  {
   "cell_type": "code",
   "execution_count": 18,
   "id": "established-visit",
   "metadata": {},
   "outputs": [
    {
     "name": "stdout",
     "output_type": "stream",
     "text": [
      "Accuracy: 83.80 %\n"
     ]
    },
    {
     "data": {
      "text/plain": [
       "<sklearn.metrics._plot.confusion_matrix.ConfusionMatrixDisplay at 0x2a8809cf970>"
      ]
     },
     "execution_count": 18,
     "metadata": {},
     "output_type": "execute_result"
    },
    {
     "data": {
      "image/png": "[encoded data removed]",
      "text/plain": [
       "<Figure size 432x288 with 2 Axes>"
      ]
     },
     "metadata": {
      "needs_background": "light"
     },
     "output_type": "display_data"
    }
   ],
   "source": [
    "# build the model shell and fit onto the training data.\n",
    "clf_prel = RandomForestClassifier(random_state=seed)\n",
    "clf_prel.fit(X_train, y_train)\n",
    "\n",
    "# predict\n",
    "y_pred = clf_prel.predict(X_test)\n",
    "\n",
    "# results\n",
    "acc = accuracy_score(y_test, y_pred)\n",
    "cm = confusion_matrix(y_test, y_pred)\n",
    "\n",
    "print('Accuracy: {:.2f} %'.format(acc * 100))\n",
    "plot_confusion_matrix(clf_prel, \n",
    "                     X_test,\n",
    "                     y_test, display_labels=['Did not survive', 'Survived'])"
   ]
  },
  {
   "cell_type": "markdown",
   "id": "timely-apparel",
   "metadata": {},
   "source": [
    "Use the model to predict training values in order to assess overfitting."
   ]
  },
  {
   "cell_type": "code",
   "execution_count": 19,
   "id": "favorite-serial",
   "metadata": {},
   "outputs": [
    {
     "name": "stdout",
     "output_type": "stream",
     "text": [
      "Accuracy: 99.16 %\n"
     ]
    },
    {
     "data": {
      "text/plain": [
       "<sklearn.metrics._plot.confusion_matrix.ConfusionMatrixDisplay at 0x2a880a0b3d0>"
      ]
     },
     "execution_count": 19,
     "metadata": {},
     "output_type": "execute_result"
    },
    {
     "data": {
      "image/png": "[encoded data removed]",
      "text/plain": [
       "<Figure size 432x288 with 2 Axes>"
      ]
     },
     "metadata": {
      "needs_background": "light"
     },
     "output_type": "display_data"
    }
   ],
   "source": [
    "y_pred_tr = clf_prel.predict(X_train)\n",
    "\n",
    "acc = accuracy_score(y_train, y_pred_tr)\n",
    "cm = confusion_matrix(y_train, y_pred_tr)\n",
    "\n",
    "print('Accuracy: {:.2f} %'.format(acc * 100))\n",
    "plot_confusion_matrix(clf_prel, \n",
    "                     X_train,\n",
    "                     y_train, display_labels=['Did not survive', 'Survived'])"
   ]
  },
  {
   "cell_type": "markdown",
   "id": "mysterious-spice",
   "metadata": {},
   "source": [
    "Use repeated and stratified 10-fold cross validation to get a more robust estimate of the model's accuracy."
   ]
  },
  {
   "cell_type": "code",
   "execution_count": 20,
   "id": "silent-missile",
   "metadata": {},
   "outputs": [
    {
     "name": "stdout",
     "output_type": "stream",
     "text": [
      "scores:  [0.83333333 0.86516854 0.74157303 0.7752809  0.78651685 0.78651685\n",
      " 0.84269663 0.80898876 0.85393258 0.82022472 0.75555556 0.79775281\n",
      " 0.78651685 0.85393258 0.82022472 0.78651685 0.73033708 0.84269663\n",
      " 0.85393258 0.80898876 0.85555556 0.7752809  0.79775281 0.83146067\n",
      " 0.86516854 0.76404494 0.92134831 0.80898876 0.82022472 0.79775281\n",
      " 0.81111111 0.85393258 0.76404494 0.78651685 0.83146067 0.83146067\n",
      " 0.82022472 0.82022472 0.85393258 0.74157303 0.77777778 0.80898876\n",
      " 0.80898876 0.82022472 0.75280899 0.80898876 0.85393258 0.83146067\n",
      " 0.80898876 0.82022472]\n",
      "Accuracy: 81.19 %\n",
      "St.dev: 0.0374\n"
     ]
    }
   ],
   "source": [
    "# Create the cv tactic.\n",
    "cv_rep_str = RepeatedStratifiedKFold(n_splits=10, n_repeats=5, random_state=seed)\n",
    "\n",
    "# Get CV accuracy and st dev.\n",
    "scores = cross_val_score(clf_prel, X, y, cv=cv_rep_str)\n",
    "\n",
    "print('scores: ', scores )\n",
    "print('Accuracy: {:.2f} %'.format(scores.mean() * 100))\n",
    "print('St.dev: {:.4f}'.format(scores.std()))"
   ]
  },
  {
   "cell_type": "markdown",
   "id": "serial-flesh",
   "metadata": {},
   "source": [
    "## Hyper-parameter tuning"
   ]
  },
  {
   "cell_type": "markdown",
   "id": "recognized-leeds",
   "metadata": {},
   "source": [
    "Random forest tends to perform quite well out of the box. We will try tuning some of the hyper-parameters to see if we can get an increase in accuracy. We'll mostly try a couple different values for maximum tree depth to see if we can reduce overfitting."
   ]
  },
  {
   "cell_type": "code",
   "execution_count": 21,
   "id": "quantitative-clothing",
   "metadata": {},
   "outputs": [],
   "source": [
    "# Set up the hyper-parameter grid for Grid Search.\n",
    "\n",
    "params = {'max_features': ['sqrt'], \n",
    "        'criterion': ['gini', 'entropy'], \n",
    "        'max_depth': [2, 4, 6, 8, 10],\n",
    "         'n_estimators': [5, 10, 20, 50, 100]}"
   ]
  },
  {
   "cell_type": "code",
   "execution_count": 22,
   "id": "interested-dominican",
   "metadata": {},
   "outputs": [
    {
     "data": {
      "text/html": [
       "<div>\n",
       "<style scoped>\n",
       "    .dataframe tbody tr th:only-of-type {\n",
       "        vertical-align: middle;\n",
       "    }\n",
       "\n",
       "    .dataframe tbody tr th {\n",
       "        vertical-align: top;\n",
       "    }\n",
       "\n",
       "    .dataframe thead th {\n",
       "        text-align: right;\n",
       "    }\n",
       "</style>\n",
       "<table border=\"1\" class=\"dataframe\">\n",
       "  <thead>\n",
       "    <tr style=\"text-align: right;\">\n",
       "      <th></th>\n",
       "      <th>mean_fit_time</th>\n",
       "      <th>std_fit_time</th>\n",
       "      <th>mean_score_time</th>\n",
       "      <th>std_score_time</th>\n",
       "      <th>param_criterion</th>\n",
       "      <th>param_max_depth</th>\n",
       "      <th>param_max_features</th>\n",
       "      <th>param_n_estimators</th>\n",
       "      <th>params</th>\n",
       "      <th>split0_test_score</th>\n",
       "      <th>...</th>\n",
       "      <th>split3_test_score</th>\n",
       "      <th>split4_test_score</th>\n",
       "      <th>split5_test_score</th>\n",
       "      <th>split6_test_score</th>\n",
       "      <th>split7_test_score</th>\n",
       "      <th>split8_test_score</th>\n",
       "      <th>split9_test_score</th>\n",
       "      <th>mean_test_score</th>\n",
       "      <th>std_test_score</th>\n",
       "      <th>rank_test_score</th>\n",
       "    </tr>\n",
       "  </thead>\n",
       "  <tbody>\n",
       "    <tr>\n",
       "      <th>13</th>\n",
       "      <td>0.204286</td>\n",
       "      <td>0.020150</td>\n",
       "      <td>0.006406</td>\n",
       "      <td>0.001282</td>\n",
       "      <td>gini</td>\n",
       "      <td>6</td>\n",
       "      <td>sqrt</td>\n",
       "      <td>50</td>\n",
       "      <td>{'criterion': 'gini', 'max_depth': 6, 'max_fea...</td>\n",
       "      <td>0.822222</td>\n",
       "      <td>...</td>\n",
       "      <td>0.876404</td>\n",
       "      <td>0.853933</td>\n",
       "      <td>0.820225</td>\n",
       "      <td>0.853933</td>\n",
       "      <td>0.820225</td>\n",
       "      <td>0.876404</td>\n",
       "      <td>0.842697</td>\n",
       "      <td>0.839526</td>\n",
       "      <td>0.032472</td>\n",
       "      <td>1</td>\n",
       "    </tr>\n",
       "    <tr>\n",
       "      <th>38</th>\n",
       "      <td>0.187570</td>\n",
       "      <td>0.025940</td>\n",
       "      <td>0.013312</td>\n",
       "      <td>0.020272</td>\n",
       "      <td>entropy</td>\n",
       "      <td>6</td>\n",
       "      <td>sqrt</td>\n",
       "      <td>50</td>\n",
       "      <td>{'criterion': 'entropy', 'max_depth': 6, 'max_...</td>\n",
       "      <td>0.822222</td>\n",
       "      <td>...</td>\n",
       "      <td>0.865169</td>\n",
       "      <td>0.865169</td>\n",
       "      <td>0.831461</td>\n",
       "      <td>0.853933</td>\n",
       "      <td>0.797753</td>\n",
       "      <td>0.865169</td>\n",
       "      <td>0.853933</td>\n",
       "      <td>0.838402</td>\n",
       "      <td>0.032923</td>\n",
       "      <td>2</td>\n",
       "    </tr>\n",
       "    <tr>\n",
       "      <th>19</th>\n",
       "      <td>0.400874</td>\n",
       "      <td>0.002389</td>\n",
       "      <td>0.030328</td>\n",
       "      <td>0.030455</td>\n",
       "      <td>gini</td>\n",
       "      <td>8</td>\n",
       "      <td>sqrt</td>\n",
       "      <td>100</td>\n",
       "      <td>{'criterion': 'gini', 'max_depth': 8, 'max_fea...</td>\n",
       "      <td>0.811111</td>\n",
       "      <td>...</td>\n",
       "      <td>0.876404</td>\n",
       "      <td>0.898876</td>\n",
       "      <td>0.831461</td>\n",
       "      <td>0.842697</td>\n",
       "      <td>0.820225</td>\n",
       "      <td>0.876404</td>\n",
       "      <td>0.820225</td>\n",
       "      <td>0.836167</td>\n",
       "      <td>0.039169</td>\n",
       "      <td>3</td>\n",
       "    </tr>\n",
       "  </tbody>\n",
       "</table>\n",
       "<p>3 rows × 22 columns</p>\n",
       "</div>"
      ],
      "text/plain": [
       "    mean_fit_time  std_fit_time  mean_score_time  std_score_time  \\\n",
       "13       0.204286      0.020150         0.006406        0.001282   \n",
       "38       0.187570      0.025940         0.013312        0.020272   \n",
       "19       0.400874      0.002389         0.030328        0.030455   \n",
       "\n",
       "   param_criterion param_max_depth param_max_features param_n_estimators  \\\n",
       "13            gini               6               sqrt                 50   \n",
       "38         entropy               6               sqrt                 50   \n",
       "19            gini               8               sqrt                100   \n",
       "\n",
       "                                               params  split0_test_score  ...  \\\n",
       "13  {'criterion': 'gini', 'max_depth': 6, 'max_fea...           0.822222  ...   \n",
       "38  {'criterion': 'entropy', 'max_depth': 6, 'max_...           0.822222  ...   \n",
       "19  {'criterion': 'gini', 'max_depth': 8, 'max_fea...           0.811111  ...   \n",
       "\n",
       "    split3_test_score  split4_test_score  split5_test_score  \\\n",
       "13           0.876404           0.853933           0.820225   \n",
       "38           0.865169           0.865169           0.831461   \n",
       "19           0.876404           0.898876           0.831461   \n",
       "\n",
       "    split6_test_score  split7_test_score  split8_test_score  \\\n",
       "13           0.853933           0.820225           0.876404   \n",
       "38           0.853933           0.797753           0.865169   \n",
       "19           0.842697           0.820225           0.876404   \n",
       "\n",
       "    split9_test_score  mean_test_score  std_test_score  rank_test_score  \n",
       "13           0.842697         0.839526        0.032472                1  \n",
       "38           0.853933         0.838402        0.032923                2  \n",
       "19           0.820225         0.836167        0.039169                3  \n",
       "\n",
       "[3 rows x 22 columns]"
      ]
     },
     "metadata": {},
     "output_type": "display_data"
    },
    {
     "name": "stdout",
     "output_type": "stream",
     "text": [
      "best values of hyper-parameters {'criterion': 'gini', 'max_depth': 6, 'max_features': 'sqrt', 'n_estimators': 50}\n"
     ]
    }
   ],
   "source": [
    "# build the shell model and fit on training data.\n",
    "clf = RandomForestClassifier(random_state=seed)\n",
    "gs = GridSearchCV(estimator=clf, param_grid=params, n_jobs=-1, cv=10)\n",
    "gs.fit(X, y)\n",
    "\n",
    "# print the best models and hyper-parameters\n",
    "results = gs.cv_results_\n",
    "best = gs.best_params_\n",
    "display(pd.DataFrame(results).sort_values(by='rank_test_score').head(3))\n",
    "print('best values of hyper-parameters', best)"
   ]
  },
  {
   "cell_type": "markdown",
   "id": "sticky-forward",
   "metadata": {},
   "source": [
    "## Build the final model"
   ]
  },
  {
   "cell_type": "code",
   "execution_count": 23,
   "id": "incoming-location",
   "metadata": {},
   "outputs": [
    {
     "name": "stdout",
     "output_type": "stream",
     "text": [
      "Accuracy: 85.47 %\n"
     ]
    },
    {
     "data": {
      "text/plain": [
       "<sklearn.metrics._plot.confusion_matrix.ConfusionMatrixDisplay at 0x2a880a2c7f0>"
      ]
     },
     "execution_count": 23,
     "metadata": {},
     "output_type": "execute_result"
    },
    {
     "data": {
      "image/png": "[encoded data removed]",
      "text/plain": [
       "<Figure size 432x288 with 2 Axes>"
      ]
     },
     "metadata": {
      "needs_background": "light"
     },
     "output_type": "display_data"
    }
   ],
   "source": [
    "clf = RandomForestClassifier(criterion='gini', max_depth=6, n_estimators = 50, max_features='sqrt', random_state=seed)\n",
    "clf.fit(X_train, y_train)\n",
    "\n",
    "# predict\n",
    "y_pred = clf.predict(X_test)\n",
    "\n",
    "# results\n",
    "acc = accuracy_score(y_test, y_pred)\n",
    "cm = confusion_matrix(y_test, y_pred)\n",
    "\n",
    "print('Accuracy: {:.2f} %'.format(acc * 100))\n",
    "plot_confusion_matrix(clf, \n",
    "                     X_test,\n",
    "                     y_test, display_labels=['Did not survive', 'Survived'])"
   ]
  },
  {
   "cell_type": "markdown",
   "id": "attractive-dimension",
   "metadata": {},
   "source": [
    "Use 10-fold CV to get a more robust estimate of the model's accuracy."
   ]
  },
  {
   "cell_type": "code",
   "execution_count": 24,
   "id": "racial-promotion",
   "metadata": {},
   "outputs": [
    {
     "name": "stdout",
     "output_type": "stream",
     "text": [
      "scores:  [0.8        0.86516854 0.78651685 0.79775281 0.7752809  0.79775281\n",
      " 0.82022472 0.86516854 0.86516854 0.83146067 0.78888889 0.82022472\n",
      " 0.82022472 0.85393258 0.80898876 0.7752809  0.82022472 0.83146067\n",
      " 0.87640449 0.82022472 0.88888889 0.85393258 0.83146067 0.82022472\n",
      " 0.85393258 0.7752809  0.88764045 0.82022472 0.79775281 0.73033708\n",
      " 0.86666667 0.83146067 0.82022472 0.78651685 0.85393258 0.86516854\n",
      " 0.82022472 0.79775281 0.85393258 0.83146067 0.81111111 0.82022472\n",
      " 0.83146067 0.83146067 0.74157303 0.85393258 0.8988764  0.84269663\n",
      " 0.84269663 0.84269663]\n",
      "Accuracy: 82.65 %\n",
      "St.dev: 0.0353\n"
     ]
    }
   ],
   "source": [
    "# Create the cv tactic.\n",
    "cv_rep_str = RepeatedStratifiedKFold(n_splits=10, n_repeats=5, random_state=seed)\n",
    "\n",
    "# Get CV accuracy and st dev.\n",
    "scores = cross_val_score(clf, X, y, cv=cv_rep_str)\n",
    "\n",
    "print('scores: ', scores )\n",
    "print('Accuracy: {:.2f} %'.format(scores.mean() * 100))\n",
    "print('St.dev: {:.4f}'.format(scores.std()))"
   ]
  },
  {
   "cell_type": "markdown",
   "id": "legislative-cancellation",
   "metadata": {},
   "source": [
    "We got a bit more than 1% in accuracy improvement. The final random forest classifier has an accuracy of 82.65%."
   ]
  },
  {
   "cell_type": "code",
   "execution_count": 26,
   "id": "through-import",
   "metadata": {},
   "outputs": [
    {
     "data": {
      "text/plain": [
       "Text(0.5, 0, 'Random Forest Feature Importance')"
      ]
     },
     "execution_count": 26,
     "metadata": {},
     "output_type": "execute_result"
    },
    {
     "data": {
      "image/png": "[encoded data removed]",
      "text/plain": [
       "<Figure size 432x288 with 1 Axes>"
      ]
     },
     "metadata": {
      "needs_background": "light"
     },
     "output_type": "display_data"
    }
   ],
   "source": [
    "sorted_idx = clf.feature_importances_.argsort()\n",
    "plt.barh(X.columns[sorted_idx], clf.feature_importances_[sorted_idx])\n",
    "plt.xlabel(\"Random Forest Feature Importance\")"
   ]
  }
 ],
 "metadata": {
  "kernelspec": {
   "display_name": "Python 3",
   "language": "python",
   "name": "python3"
  },
  "language_info": {
   "codemirror_mode": {
    "name": "ipython",
    "version": 3
   },
   "file_extension": ".py",
   "mimetype": "text/x-python",
   "name": "python",
   "nbconvert_exporter": "python",
   "pygments_lexer": "ipython3",
   "version": "3.9.1"
  }
 },
 "nbformat": 4,
 "nbformat_minor": 5
}

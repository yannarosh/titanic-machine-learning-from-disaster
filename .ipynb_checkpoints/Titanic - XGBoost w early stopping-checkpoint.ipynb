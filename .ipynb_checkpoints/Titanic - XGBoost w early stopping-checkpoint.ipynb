{
 "cells": [
  {
   "cell_type": "markdown",
   "id": "expressed-promise",
   "metadata": {},
   "source": [
    "# Classification with XGBoost"
   ]
  },
  {
   "cell_type": "markdown",
   "id": "industrial-times",
   "metadata": {},
   "source": [
    "## Import the libraries"
   ]
  },
  {
   "cell_type": "code",
   "execution_count": 104,
   "id": "aging-cargo",
   "metadata": {},
   "outputs": [],
   "source": [
    "import numpy as np\n",
    "import matplotlib.pyplot as plt\n",
    "import pandas as pd\n",
    "import timeit\n",
    "\n",
    "import xgboost as xgb\n",
    "\n",
    "from sklearn.model_selection import train_test_split, GridSearchCV, RandomizedSearchCV\n",
    "from sklearn.metrics import confusion_matrix, plot_confusion_matrix, accuracy_score\n",
    "from sklearn.model_selection import cross_val_score\n",
    "\n",
    "from collections import Counter"
   ]
  },
  {
   "cell_type": "markdown",
   "id": "driven-stand",
   "metadata": {},
   "source": [
    "## Import and view data"
   ]
  },
  {
   "cell_type": "code",
   "execution_count": 76,
   "id": "rapid-buffer",
   "metadata": {},
   "outputs": [
    {
     "data": {
      "text/html": [
       "<div>\n",
       "<style scoped>\n",
       "    .dataframe tbody tr th:only-of-type {\n",
       "        vertical-align: middle;\n",
       "    }\n",
       "\n",
       "    .dataframe tbody tr th {\n",
       "        vertical-align: top;\n",
       "    }\n",
       "\n",
       "    .dataframe thead th {\n",
       "        text-align: right;\n",
       "    }\n",
       "</style>\n",
       "<table border=\"1\" class=\"dataframe\">\n",
       "  <thead>\n",
       "    <tr style=\"text-align: right;\">\n",
       "      <th></th>\n",
       "      <th>Survived</th>\n",
       "      <th>Pclass</th>\n",
       "      <th>Age</th>\n",
       "      <th>Fare</th>\n",
       "      <th>FamSize</th>\n",
       "      <th>Sex_male</th>\n",
       "      <th>Embarked_Q</th>\n",
       "      <th>Embarked_S</th>\n",
       "      <th>Title_Miss</th>\n",
       "      <th>Title_Mr</th>\n",
       "      <th>Title_Mrs</th>\n",
       "      <th>Title_Other</th>\n",
       "      <th>cabin_missing</th>\n",
       "    </tr>\n",
       "  </thead>\n",
       "  <tbody>\n",
       "    <tr>\n",
       "      <th>0</th>\n",
       "      <td>0.0</td>\n",
       "      <td>3.0</td>\n",
       "      <td>22.0</td>\n",
       "      <td>7.2500</td>\n",
       "      <td>1.0</td>\n",
       "      <td>1.0</td>\n",
       "      <td>0.0</td>\n",
       "      <td>1.0</td>\n",
       "      <td>0.0</td>\n",
       "      <td>1.0</td>\n",
       "      <td>0.0</td>\n",
       "      <td>0.0</td>\n",
       "      <td>1.0</td>\n",
       "    </tr>\n",
       "    <tr>\n",
       "      <th>1</th>\n",
       "      <td>1.0</td>\n",
       "      <td>1.0</td>\n",
       "      <td>38.0</td>\n",
       "      <td>71.2833</td>\n",
       "      <td>1.0</td>\n",
       "      <td>0.0</td>\n",
       "      <td>0.0</td>\n",
       "      <td>0.0</td>\n",
       "      <td>0.0</td>\n",
       "      <td>0.0</td>\n",
       "      <td>1.0</td>\n",
       "      <td>0.0</td>\n",
       "      <td>0.0</td>\n",
       "    </tr>\n",
       "    <tr>\n",
       "      <th>2</th>\n",
       "      <td>1.0</td>\n",
       "      <td>3.0</td>\n",
       "      <td>26.0</td>\n",
       "      <td>7.9250</td>\n",
       "      <td>0.0</td>\n",
       "      <td>0.0</td>\n",
       "      <td>0.0</td>\n",
       "      <td>1.0</td>\n",
       "      <td>1.0</td>\n",
       "      <td>0.0</td>\n",
       "      <td>0.0</td>\n",
       "      <td>0.0</td>\n",
       "      <td>1.0</td>\n",
       "    </tr>\n",
       "    <tr>\n",
       "      <th>3</th>\n",
       "      <td>1.0</td>\n",
       "      <td>1.0</td>\n",
       "      <td>35.0</td>\n",
       "      <td>53.1000</td>\n",
       "      <td>1.0</td>\n",
       "      <td>0.0</td>\n",
       "      <td>0.0</td>\n",
       "      <td>1.0</td>\n",
       "      <td>0.0</td>\n",
       "      <td>0.0</td>\n",
       "      <td>1.0</td>\n",
       "      <td>0.0</td>\n",
       "      <td>0.0</td>\n",
       "    </tr>\n",
       "    <tr>\n",
       "      <th>4</th>\n",
       "      <td>0.0</td>\n",
       "      <td>3.0</td>\n",
       "      <td>35.0</td>\n",
       "      <td>8.0500</td>\n",
       "      <td>0.0</td>\n",
       "      <td>1.0</td>\n",
       "      <td>0.0</td>\n",
       "      <td>1.0</td>\n",
       "      <td>0.0</td>\n",
       "      <td>1.0</td>\n",
       "      <td>0.0</td>\n",
       "      <td>0.0</td>\n",
       "      <td>1.0</td>\n",
       "    </tr>\n",
       "  </tbody>\n",
       "</table>\n",
       "</div>"
      ],
      "text/plain": [
       "   Survived  Pclass   Age     Fare  FamSize  Sex_male  Embarked_Q  Embarked_S  \\\n",
       "0       0.0     3.0  22.0   7.2500      1.0       1.0         0.0         1.0   \n",
       "1       1.0     1.0  38.0  71.2833      1.0       0.0         0.0         0.0   \n",
       "2       1.0     3.0  26.0   7.9250      0.0       0.0         0.0         1.0   \n",
       "3       1.0     1.0  35.0  53.1000      1.0       0.0         0.0         1.0   \n",
       "4       0.0     3.0  35.0   8.0500      0.0       1.0         0.0         1.0   \n",
       "\n",
       "   Title_Miss  Title_Mr  Title_Mrs  Title_Other  cabin_missing  \n",
       "0         0.0       1.0        0.0          0.0            1.0  \n",
       "1         0.0       0.0        1.0          0.0            0.0  \n",
       "2         1.0       0.0        0.0          0.0            1.0  \n",
       "3         0.0       0.0        1.0          0.0            0.0  \n",
       "4         0.0       1.0        0.0          0.0            1.0  "
      ]
     },
     "metadata": {},
     "output_type": "display_data"
    },
    {
     "name": "stdout",
     "output_type": "stream",
     "text": [
      "dims:  (891, 13)\n"
     ]
    }
   ],
   "source": [
    "df = pd.read_csv(\"Train_prepd\")\n",
    "display(df.head())\n",
    "print('dims: ', df.shape)"
   ]
  },
  {
   "cell_type": "markdown",
   "id": "ongoing-panel",
   "metadata": {},
   "source": [
    "The XGBoost algorithm has default behaviour that can deal with missing data (if they are set to 0). However, in this dataset we've already taken care of missing data in the EDA step."
   ]
  },
  {
   "cell_type": "code",
   "execution_count": 77,
   "id": "educated-sound",
   "metadata": {},
   "outputs": [
    {
     "data": {
      "text/plain": [
       "Survived         0\n",
       "Pclass           0\n",
       "Age              0\n",
       "Fare             0\n",
       "FamSize          0\n",
       "Sex_male         0\n",
       "Embarked_Q       0\n",
       "Embarked_S       0\n",
       "Title_Miss       0\n",
       "Title_Mr         0\n",
       "Title_Mrs        0\n",
       "Title_Other      0\n",
       "cabin_missing    0\n",
       "dtype: int64"
      ]
     },
     "execution_count": 77,
     "metadata": {},
     "output_type": "execute_result"
    }
   ],
   "source": [
    "df.isna().sum()"
   ]
  },
  {
   "cell_type": "markdown",
   "id": "limiting-investing",
   "metadata": {},
   "source": [
    "## Split data into dependent and independent variables"
   ]
  },
  {
   "cell_type": "code",
   "execution_count": 93,
   "id": "signal-chicago",
   "metadata": {},
   "outputs": [],
   "source": [
    "# split into dependent and independent variables\n",
    "X = df.iloc[:, 1:]\n",
    "y = df.iloc[:, 0]"
   ]
  },
  {
   "cell_type": "markdown",
   "id": "macro-company",
   "metadata": {},
   "source": [
    "## Build a preliminary model"
   ]
  },
  {
   "cell_type": "markdown",
   "id": "complimentary-pocket",
   "metadata": {},
   "source": [
    "In this step we'll build the most basic XGBoost model, to see what we can expect. First, we'll assess it on a simple train/test split, then using 10-fold cross-validation. "
   ]
  },
  {
   "cell_type": "code",
   "execution_count": 97,
   "id": "lonely-banking",
   "metadata": {},
   "outputs": [
    {
     "data": {
      "text/plain": [
       "0.3838383838383838"
      ]
     },
     "execution_count": 97,
     "metadata": {},
     "output_type": "execute_result"
    }
   ],
   "source": [
    "sum(y)/len(y)"
   ]
  },
  {
   "cell_type": "markdown",
   "id": "geological-freedom",
   "metadata": {},
   "source": [
    "The dataset is fairly imbalanced (38% survived), so we'll use stratification in the train/test split. Stratification is also used in the folds that are created by the cross_val_score function that is used later on for cross validation."
   ]
  },
  {
   "cell_type": "code",
   "execution_count": 98,
   "id": "comfortable-sport",
   "metadata": {},
   "outputs": [],
   "source": [
    "# split into training and test sets, using stratification.\n",
    "X_train, X_test, y_train, y_test = train_test_split(X, y, test_size = 0.2, stratify=y, random_state = 420)"
   ]
  },
  {
   "cell_type": "markdown",
   "id": "physical-license",
   "metadata": {},
   "source": [
    "Build the XGB classifier shell and fit it on the training data."
   ]
  },
  {
   "cell_type": "code",
   "execution_count": 99,
   "id": "disturbed-webmaster",
   "metadata": {},
   "outputs": [
    {
     "name": "stdout",
     "output_type": "stream",
     "text": [
      "[14:52:38] WARNING: C:/Users/Administrator/workspace/xgboost-win64_release_1.4.0/src/learner.cc:1095: Starting in XGBoost 1.3.0, the default evaluation metric used with the objective 'binary:logistic' was changed from 'error' to 'logloss'. Explicitly set eval_metric if you'd like to restore the old behavior.\n"
     ]
    },
    {
     "data": {
      "text/plain": [
       "XGBClassifier(base_score=0.5, booster='gbtree', colsample_bylevel=1,\n",
       "              colsample_bynode=1, colsample_bytree=1, gamma=0, gpu_id=-1,\n",
       "              importance_type='gain', interaction_constraints='',\n",
       "              learning_rate=0.300000012, max_delta_step=0, max_depth=6,\n",
       "              min_child_weight=1, missing=nan, monotone_constraints='()',\n",
       "              n_estimators=100, n_jobs=12, num_parallel_tree=1,\n",
       "              random_state=420, reg_alpha=0, reg_lambda=1, scale_pos_weight=1,\n",
       "              subsample=1, tree_method='exact', use_label_encoder=False,\n",
       "              validate_parameters=1, verbosity=None)"
      ]
     },
     "execution_count": 99,
     "metadata": {},
     "output_type": "execute_result"
    }
   ],
   "source": [
    "clf_prel = xgb.XGBClassifier(objective='binary:logistic', use_label_encoder=False, random_state=420)\n",
    "clf_prel.fit(X_train, y_train)\n",
    "\n",
    "# Setting use_label_encoder=False is recommended by XGBoost."
   ]
  },
  {
   "cell_type": "markdown",
   "id": "australian-bangladesh",
   "metadata": {},
   "source": [
    "**NOTE**: In the model fit above, I should be using early stopping to prevent overfitting and improve performance - i.e. tell the algorithm to stop building more trees when the evaluation metric I choose (should be 'aucpr' here) is not improving on some holdout evaluation set (not the X_test,y_test). In the case of train/test splits, I should further split the train set into train and validation, then set early stopping criteria based on the performance gain on the validation set. In the case of CV (which occurs several times in the rest of the notebook) this is more difficult - each of the k train/test splits should really be a train/validation/test split, in order to assess early stopping on the validation set. This is also the case for grid search CV that will be used later for hyperparameter tuning. "
   ]
  },
  {
   "cell_type": "code",
   "execution_count": 100,
   "id": "complimentary-involvement",
   "metadata": {},
   "outputs": [
    {
     "name": "stdout",
     "output_type": "stream",
     "text": [
      "Accuracy: 81.56 %\n"
     ]
    },
    {
     "data": {
      "text/plain": [
       "<sklearn.metrics._plot.confusion_matrix.ConfusionMatrixDisplay at 0x1850974d5e0>"
      ]
     },
     "execution_count": 100,
     "metadata": {},
     "output_type": "execute_result"
    },
    {
     "data": {
      "image/png": "[encoded data removed]",
      "text/plain": [
       "<Figure size 432x288 with 2 Axes>"
      ]
     },
     "metadata": {
      "needs_background": "light"
     },
     "output_type": "display_data"
    }
   ],
   "source": [
    "# predict on the test set\n",
    "y_pred = clf_prel.predict(X_test)\n",
    "\n",
    "# print accuracy and draw the confusion matrix\n",
    "acc = accuracy_score(y_test, y_pred)\n",
    "cm = confusion_matrix(y_test, y_pred)\n",
    "print('Accuracy: {:.2f} %'.format(acc * 100))\n",
    "\n",
    "plot_confusion_matrix(clf_prel, \n",
    "                     X_test,\n",
    "                     y_test, display_labels=['Did not survive', 'Survived'])"
   ]
  },
  {
   "cell_type": "code",
   "execution_count": 101,
   "id": "natural-witch",
   "metadata": {},
   "outputs": [
    {
     "name": "stdout",
     "output_type": "stream",
     "text": [
      "[14:53:20] WARNING: C:/Users/Administrator/workspace/xgboost-win64_release_1.4.0/src/learner.cc:1095: Starting in XGBoost 1.3.0, the default evaluation metric used with the objective 'binary:logistic' was changed from 'error' to 'logloss'. Explicitly set eval_metric if you'd like to restore the old behavior.\n",
      "[14:53:20] WARNING: C:/Users/Administrator/workspace/xgboost-win64_release_1.4.0/src/learner.cc:1095: Starting in XGBoost 1.3.0, the default evaluation metric used with the objective 'binary:logistic' was changed from 'error' to 'logloss'. Explicitly set eval_metric if you'd like to restore the old behavior.\n",
      "[14:53:20] WARNING: C:/Users/Administrator/workspace/xgboost-win64_release_1.4.0/src/learner.cc:1095: Starting in XGBoost 1.3.0, the default evaluation metric used with the objective 'binary:logistic' was changed from 'error' to 'logloss'. Explicitly set eval_metric if you'd like to restore the old behavior.\n",
      "[14:53:20] WARNING: C:/Users/Administrator/workspace/xgboost-win64_release_1.4.0/src/learner.cc:1095: Starting in XGBoost 1.3.0, the default evaluation metric used with the objective 'binary:logistic' was changed from 'error' to 'logloss'. Explicitly set eval_metric if you'd like to restore the old behavior.\n",
      "[14:53:20] WARNING: C:/Users/Administrator/workspace/xgboost-win64_release_1.4.0/src/learner.cc:1095: Starting in XGBoost 1.3.0, the default evaluation metric used with the objective 'binary:logistic' was changed from 'error' to 'logloss'. Explicitly set eval_metric if you'd like to restore the old behavior.\n",
      "[14:53:20] WARNING: C:/Users/Administrator/workspace/xgboost-win64_release_1.4.0/src/learner.cc:1095: Starting in XGBoost 1.3.0, the default evaluation metric used with the objective 'binary:logistic' was changed from 'error' to 'logloss'. Explicitly set eval_metric if you'd like to restore the old behavior.\n",
      "[14:53:20] WARNING: C:/Users/Administrator/workspace/xgboost-win64_release_1.4.0/src/learner.cc:1095: Starting in XGBoost 1.3.0, the default evaluation metric used with the objective 'binary:logistic' was changed from 'error' to 'logloss'. Explicitly set eval_metric if you'd like to restore the old behavior.\n",
      "[14:53:20] WARNING: C:/Users/Administrator/workspace/xgboost-win64_release_1.4.0/src/learner.cc:1095: Starting in XGBoost 1.3.0, the default evaluation metric used with the objective 'binary:logistic' was changed from 'error' to 'logloss'. Explicitly set eval_metric if you'd like to restore the old behavior.\n",
      "[14:53:20] WARNING: C:/Users/Administrator/workspace/xgboost-win64_release_1.4.0/src/learner.cc:1095: Starting in XGBoost 1.3.0, the default evaluation metric used with the objective 'binary:logistic' was changed from 'error' to 'logloss'. Explicitly set eval_metric if you'd like to restore the old behavior.\n",
      "[14:53:20] WARNING: C:/Users/Administrator/workspace/xgboost-win64_release_1.4.0/src/learner.cc:1095: Starting in XGBoost 1.3.0, the default evaluation metric used with the objective 'binary:logistic' was changed from 'error' to 'logloss'. Explicitly set eval_metric if you'd like to restore the old behavior.\n",
      "scores:  [0.78888889 0.85393258 0.7752809  0.84269663 0.86516854 0.86516854\n",
      " 0.83146067 0.76404494 0.86516854 0.88764045]\n",
      "Accuracy: 83.39 %\n"
     ]
    }
   ],
   "source": [
    "scores = cross_val_score(clf_prel, X, y, cv=10)\n",
    "print('scores: ', scores )\n",
    "print('Accuracy: {:.2f} %'.format(scores.mean() * 100))"
   ]
  },
  {
   "cell_type": "markdown",
   "id": "sunrise-pastor",
   "metadata": {},
   "source": [
    "## Hyperparameter tuning"
   ]
  },
  {
   "cell_type": "markdown",
   "id": "modified-reset",
   "metadata": {},
   "source": [
    "We will use Grid Search CV to find the best hyperparameters for XGBoost. Grid Search CV is going to be run within the training set and the model with the best performance on the validation sets will be picked for a final accuracy assesment on the testing set. Early stopping is not used (see note above)."
   ]
  },
  {
   "cell_type": "code",
   "execution_count": 137,
   "id": "virgin-productivity",
   "metadata": {},
   "outputs": [],
   "source": [
    "# build the parameters dictionary\n",
    "param_grid = {\n",
    "    'max_depth': [4, 6, 8, 10], #increasing max depth further will improve performance, but will lead to overfitting.\n",
    "    'learning_rate': [0.01, 0.05, 0.1, 0.2, 0.5], #learning rate <0.05 to avoid overfitting \n",
    "    'gamma': [0, 0.25, 0.5, 1],\n",
    "    'reg_lambda': [0, 1, 10, 20],\n",
    "    'scale_pos_weight': [1, 2, 3, 4], #XGBoost recommends sum(negative instances) / sum(positive instances)\n",
    "    'colsample_bytree': [0.3, 0.5, 0.8],\n",
    "    'min_child_weight': [1, 3, 5, 7]\n",
    "}"
   ]
  },
  {
   "cell_type": "code",
   "execution_count": 138,
   "id": "common-crowd",
   "metadata": {},
   "outputs": [],
   "source": [
    "# construct the XGB classifier shell and pass it to grid search along with the parameters dictionary\n",
    "clf_gs = xgb.XGBClassifier(objective='binary:logistic', use_label_encoder=False, random_state=420)\n",
    "gs = GridSearchCV(clf_gs, \n",
    "                  param_grid=param_grid, \n",
    "                  scoring='roc_auc', \n",
    "                  n_jobs=-1, \n",
    "                  cv=5, \n",
    "                  verbose=2)"
   ]
  },
  {
   "cell_type": "code",
   "execution_count": 139,
   "id": "honest-drilling",
   "metadata": {},
   "outputs": [],
   "source": [
    "clf_rs = clf_gs = xgb.XGBClassifier(objective='binary:logistic', use_label_encoder=False, random_state=420)\n",
    "rs = RandomizedSearchCV(estimator=clf_rs,\n",
    "                        param_distributions=param_grid,\n",
    "                        scoring='roc_auc',\n",
    "                        n_jobs=-1,\n",
    "                        n_iter=500,\n",
    "                        cv=5,\n",
    "                        verbose=2,\n",
    "                        random_state=420)"
   ]
  },
  {
   "cell_type": "markdown",
   "id": "adapted-collapse",
   "metadata": {},
   "source": [
    "First with Grid Search CV, which is exhaustive and more performance intensive."
   ]
  },
  {
   "cell_type": "code",
   "execution_count": null,
   "id": "animated-chick",
   "metadata": {},
   "outputs": [
    {
     "name": "stdout",
     "output_type": "stream",
     "text": [
      "Fitting 5 folds for each of 15360 candidates, totalling 76800 fits\n"
     ]
    }
   ],
   "source": [
    "#start timer\n",
    "start = timeit.default_timer()\n",
    "\n",
    "#run grid cv and print parameters\n",
    "gs.fit(X_train, y_train)\n",
    "print(\"Best Accuracy: {:.2f} %\".format(gs.best_score_*100))\n",
    "print(\"Best Parameters: \", gs.best_params_)\n",
    "\n",
    "#end timer and print\n",
    "stop = timeit.default_timer()\n",
    "print('Time: {:.2f}'.format(stop - start)) "
   ]
  },
  {
   "cell_type": "code",
   "execution_count": null,
   "id": "thrown-attribute",
   "metadata": {},
   "outputs": [],
   "source": [
    "# print results in a dataframe\n",
    "pd.DataFrame(gs.cv_results_).sort_values(by='rank_test_score').head(5)"
   ]
  },
  {
   "cell_type": "markdown",
   "id": "worthy-darwin",
   "metadata": {},
   "source": [
    "Then with Randomized Search CV, which samples the hypermarameter combinations and should be much faster."
   ]
  },
  {
   "cell_type": "code",
   "execution_count": 132,
   "id": "entire-disabled",
   "metadata": {},
   "outputs": [
    {
     "name": "stdout",
     "output_type": "stream",
     "text": [
      "Fitting 5 folds for each of 500 candidates, totalling 2500 fits\n",
      "[15:27:29] WARNING: C:/Users/Administrator/workspace/xgboost-win64_release_1.4.0/src/learner.cc:1095: Starting in XGBoost 1.3.0, the default evaluation metric used with the objective 'binary:logistic' was changed from 'error' to 'logloss'. Explicitly set eval_metric if you'd like to restore the old behavior.\n",
      "Best Accuracy: 89.53 %\n",
      "Best Parameters:  {'scale_pos_weight': 2, 'reg_lambda': 0, 'min_child_weight': 1, 'max_depth': 8, 'learning_rate': 0.01, 'gamma': 0, 'colsample_bytree': 0.5}\n",
      "Time: 59.92\n"
     ]
    }
   ],
   "source": [
    "#start timer\n",
    "start = timeit.default_timer()\n",
    "\n",
    "#run grid cv and print parameters\n",
    "rs.fit(X_train, y_train)\n",
    "print(\"Best Accuracy: {:.2f} %\".format(rs.best_score_*100))\n",
    "print(\"Best Parameters: \", rs.best_params_)\n",
    "\n",
    "#end timer and print\n",
    "stop = timeit.default_timer()\n",
    "print('Time: {:.2f}'.format(stop - start))"
   ]
  },
  {
   "cell_type": "code",
   "execution_count": 133,
   "id": "interim-trash",
   "metadata": {},
   "outputs": [
    {
     "data": {
      "text/html": [
       "<div>\n",
       "<style scoped>\n",
       "    .dataframe tbody tr th:only-of-type {\n",
       "        vertical-align: middle;\n",
       "    }\n",
       "\n",
       "    .dataframe tbody tr th {\n",
       "        vertical-align: top;\n",
       "    }\n",
       "\n",
       "    .dataframe thead th {\n",
       "        text-align: right;\n",
       "    }\n",
       "</style>\n",
       "<table border=\"1\" class=\"dataframe\">\n",
       "  <thead>\n",
       "    <tr style=\"text-align: right;\">\n",
       "      <th></th>\n",
       "      <th>mean_fit_time</th>\n",
       "      <th>std_fit_time</th>\n",
       "      <th>mean_score_time</th>\n",
       "      <th>std_score_time</th>\n",
       "      <th>param_scale_pos_weight</th>\n",
       "      <th>param_reg_lambda</th>\n",
       "      <th>param_min_child_weight</th>\n",
       "      <th>param_max_depth</th>\n",
       "      <th>param_learning_rate</th>\n",
       "      <th>param_gamma</th>\n",
       "      <th>param_colsample_bytree</th>\n",
       "      <th>params</th>\n",
       "      <th>split0_test_score</th>\n",
       "      <th>split1_test_score</th>\n",
       "      <th>split2_test_score</th>\n",
       "      <th>split3_test_score</th>\n",
       "      <th>split4_test_score</th>\n",
       "      <th>mean_test_score</th>\n",
       "      <th>std_test_score</th>\n",
       "      <th>rank_test_score</th>\n",
       "    </tr>\n",
       "  </thead>\n",
       "  <tbody>\n",
       "    <tr>\n",
       "      <th>42</th>\n",
       "      <td>0.432994</td>\n",
       "      <td>0.019039</td>\n",
       "      <td>0.003603</td>\n",
       "      <td>8.006454e-04</td>\n",
       "      <td>2</td>\n",
       "      <td>0</td>\n",
       "      <td>1</td>\n",
       "      <td>8</td>\n",
       "      <td>0.01</td>\n",
       "      <td>0</td>\n",
       "      <td>0.5</td>\n",
       "      <td>{'scale_pos_weight': 2, 'reg_lambda': 0, 'min_...</td>\n",
       "      <td>0.863843</td>\n",
       "      <td>0.895455</td>\n",
       "      <td>0.870370</td>\n",
       "      <td>0.916667</td>\n",
       "      <td>0.930408</td>\n",
       "      <td>0.895348</td>\n",
       "      <td>0.025691</td>\n",
       "      <td>1</td>\n",
       "    </tr>\n",
       "    <tr>\n",
       "      <th>327</th>\n",
       "      <td>0.517670</td>\n",
       "      <td>0.023211</td>\n",
       "      <td>0.003403</td>\n",
       "      <td>4.905049e-04</td>\n",
       "      <td>3</td>\n",
       "      <td>0</td>\n",
       "      <td>1</td>\n",
       "      <td>8</td>\n",
       "      <td>0.01</td>\n",
       "      <td>0.5</td>\n",
       "      <td>0.5</td>\n",
       "      <td>{'scale_pos_weight': 3, 'reg_lambda': 0, 'min_...</td>\n",
       "      <td>0.866736</td>\n",
       "      <td>0.893595</td>\n",
       "      <td>0.866267</td>\n",
       "      <td>0.912247</td>\n",
       "      <td>0.927273</td>\n",
       "      <td>0.893224</td>\n",
       "      <td>0.024289</td>\n",
       "      <td>2</td>\n",
       "    </tr>\n",
       "    <tr>\n",
       "      <th>217</th>\n",
       "      <td>0.530081</td>\n",
       "      <td>0.012717</td>\n",
       "      <td>0.003003</td>\n",
       "      <td>1.168008e-07</td>\n",
       "      <td>4</td>\n",
       "      <td>0</td>\n",
       "      <td>1</td>\n",
       "      <td>10</td>\n",
       "      <td>0.01</td>\n",
       "      <td>0</td>\n",
       "      <td>0.5</td>\n",
       "      <td>{'scale_pos_weight': 4, 'reg_lambda': 0, 'min_...</td>\n",
       "      <td>0.869628</td>\n",
       "      <td>0.890496</td>\n",
       "      <td>0.864689</td>\n",
       "      <td>0.914562</td>\n",
       "      <td>0.923929</td>\n",
       "      <td>0.892661</td>\n",
       "      <td>0.023558</td>\n",
       "      <td>3</td>\n",
       "    </tr>\n",
       "    <tr>\n",
       "      <th>60</th>\n",
       "      <td>0.402566</td>\n",
       "      <td>0.015678</td>\n",
       "      <td>0.003403</td>\n",
       "      <td>4.903686e-04</td>\n",
       "      <td>2</td>\n",
       "      <td>1</td>\n",
       "      <td>1</td>\n",
       "      <td>10</td>\n",
       "      <td>0.01</td>\n",
       "      <td>0.5</td>\n",
       "      <td>0.5</td>\n",
       "      <td>{'scale_pos_weight': 2, 'reg_lambda': 1, 'min_...</td>\n",
       "      <td>0.861467</td>\n",
       "      <td>0.891322</td>\n",
       "      <td>0.864373</td>\n",
       "      <td>0.916772</td>\n",
       "      <td>0.921630</td>\n",
       "      <td>0.891113</td>\n",
       "      <td>0.025233</td>\n",
       "      <td>4</td>\n",
       "    </tr>\n",
       "    <tr>\n",
       "      <th>263</th>\n",
       "      <td>0.294468</td>\n",
       "      <td>0.014647</td>\n",
       "      <td>0.003403</td>\n",
       "      <td>4.904464e-04</td>\n",
       "      <td>3</td>\n",
       "      <td>0</td>\n",
       "      <td>5</td>\n",
       "      <td>6</td>\n",
       "      <td>0.2</td>\n",
       "      <td>1</td>\n",
       "      <td>0.5</td>\n",
       "      <td>{'scale_pos_weight': 3, 'reg_lambda': 0, 'min_...</td>\n",
       "      <td>0.854959</td>\n",
       "      <td>0.892149</td>\n",
       "      <td>0.872054</td>\n",
       "      <td>0.905934</td>\n",
       "      <td>0.916614</td>\n",
       "      <td>0.888342</td>\n",
       "      <td>0.022374</td>\n",
       "      <td>5</td>\n",
       "    </tr>\n",
       "  </tbody>\n",
       "</table>\n",
       "</div>"
      ],
      "text/plain": [
       "     mean_fit_time  std_fit_time  mean_score_time  std_score_time  \\\n",
       "42        0.432994      0.019039         0.003603    8.006454e-04   \n",
       "327       0.517670      0.023211         0.003403    4.905049e-04   \n",
       "217       0.530081      0.012717         0.003003    1.168008e-07   \n",
       "60        0.402566      0.015678         0.003403    4.903686e-04   \n",
       "263       0.294468      0.014647         0.003403    4.904464e-04   \n",
       "\n",
       "    param_scale_pos_weight param_reg_lambda param_min_child_weight  \\\n",
       "42                       2                0                      1   \n",
       "327                      3                0                      1   \n",
       "217                      4                0                      1   \n",
       "60                       2                1                      1   \n",
       "263                      3                0                      5   \n",
       "\n",
       "    param_max_depth param_learning_rate param_gamma param_colsample_bytree  \\\n",
       "42                8                0.01           0                    0.5   \n",
       "327               8                0.01         0.5                    0.5   \n",
       "217              10                0.01           0                    0.5   \n",
       "60               10                0.01         0.5                    0.5   \n",
       "263               6                 0.2           1                    0.5   \n",
       "\n",
       "                                                params  split0_test_score  \\\n",
       "42   {'scale_pos_weight': 2, 'reg_lambda': 0, 'min_...           0.863843   \n",
       "327  {'scale_pos_weight': 3, 'reg_lambda': 0, 'min_...           0.866736   \n",
       "217  {'scale_pos_weight': 4, 'reg_lambda': 0, 'min_...           0.869628   \n",
       "60   {'scale_pos_weight': 2, 'reg_lambda': 1, 'min_...           0.861467   \n",
       "263  {'scale_pos_weight': 3, 'reg_lambda': 0, 'min_...           0.854959   \n",
       "\n",
       "     split1_test_score  split2_test_score  split3_test_score  \\\n",
       "42            0.895455           0.870370           0.916667   \n",
       "327           0.893595           0.866267           0.912247   \n",
       "217           0.890496           0.864689           0.914562   \n",
       "60            0.891322           0.864373           0.916772   \n",
       "263           0.892149           0.872054           0.905934   \n",
       "\n",
       "     split4_test_score  mean_test_score  std_test_score  rank_test_score  \n",
       "42            0.930408         0.895348        0.025691                1  \n",
       "327           0.927273         0.893224        0.024289                2  \n",
       "217           0.923929         0.892661        0.023558                3  \n",
       "60            0.921630         0.891113        0.025233                4  \n",
       "263           0.916614         0.888342        0.022374                5  "
      ]
     },
     "execution_count": 133,
     "metadata": {},
     "output_type": "execute_result"
    }
   ],
   "source": [
    "# print results in a dataframe\n",
    "pd.DataFrame(rs.cv_results_).sort_values(by='rank_test_score').head(5)"
   ]
  },
  {
   "cell_type": "markdown",
   "id": "radio-billion",
   "metadata": {},
   "source": [
    "## Final XGBoost model and evaluation on the test set"
   ]
  },
  {
   "cell_type": "markdown",
   "id": "decimal-johnston",
   "metadata": {},
   "source": [
    "Here we build the final XGB model, with the optimized hyperparameters. "
   ]
  },
  {
   "cell_type": "code",
   "execution_count": 134,
   "id": "surgical-words",
   "metadata": {},
   "outputs": [
    {
     "name": "stdout",
     "output_type": "stream",
     "text": [
      "[15:29:44] WARNING: C:/Users/Administrator/workspace/xgboost-win64_release_1.4.0/src/learner.cc:1095: Starting in XGBoost 1.3.0, the default evaluation metric used with the objective 'binary:logistic' was changed from 'error' to 'logloss'. Explicitly set eval_metric if you'd like to restore the old behavior.\n"
     ]
    },
    {
     "data": {
      "text/plain": [
       "XGBClassifier(base_score=0.5, booster='gbtree', colsample_bylevel=1,\n",
       "              colsample_bynode=1, colsample_bytree=0.5, gamma=0, gpu_id=-1,\n",
       "              importance_type='gain', interaction_constraints='',\n",
       "              learning_rate=0.01, max_delta_step=0, max_depth=8,\n",
       "              min_child_weight=1, missing=nan, monotone_constraints='()',\n",
       "              n_estimators=100, n_jobs=12, num_parallel_tree=1,\n",
       "              random_state=420, reg_alpha=0, reg_lambda=0, scale_pos_weight=2,\n",
       "              subsample=1, tree_method='exact', use_label_encoder=False,\n",
       "              validate_parameters=1, verbosity=None)"
      ]
     },
     "execution_count": 134,
     "metadata": {},
     "output_type": "execute_result"
    }
   ],
   "source": [
    "clf = xgb.XGBClassifier(objective='binary:logistic', \n",
    "                        colsample_bytree=0.5,\n",
    "                        gamma=0,\n",
    "                        learning_rate=0.01,\n",
    "                        max_depth=8,\n",
    "                        min_child_weight=1,\n",
    "                        reg_lambda=0,\n",
    "                        scale_pos_weight=2,\n",
    "                        use_label_encoder=False,\n",
    "                        random_state=420\n",
    "                        )\n",
    "clf.fit(X_train, y_train)"
   ]
  },
  {
   "cell_type": "code",
   "execution_count": 135,
   "id": "deadly-oakland",
   "metadata": {},
   "outputs": [
    {
     "name": "stdout",
     "output_type": "stream",
     "text": [
      "Accuracy: 82.68 %\n"
     ]
    },
    {
     "data": {
      "text/plain": [
       "<sklearn.metrics._plot.confusion_matrix.ConfusionMatrixDisplay at 0x1850d2ff280>"
      ]
     },
     "execution_count": 135,
     "metadata": {},
     "output_type": "execute_result"
    },
    {
     "data": {
      "image/png": "[encoded data removed]",
      "text/plain": [
       "<Figure size 432x288 with 2 Axes>"
      ]
     },
     "metadata": {
      "needs_background": "light"
     },
     "output_type": "display_data"
    }
   ],
   "source": [
    "# predict on the test set\n",
    "y_pred = clf.predict(X_test)\n",
    "\n",
    "# print accuracy and draw the confusion matrix\n",
    "acc = accuracy_score(y_test, y_pred)\n",
    "cm = confusion_matrix(y_test, y_pred)\n",
    "print('Accuracy: {:.2f} %'.format(acc * 100))\n",
    "\n",
    "plot_confusion_matrix(clf, \n",
    "                     X_test,\n",
    "                     y_test, display_labels=['Did not survive', 'Survived'])"
   ]
  },
  {
   "cell_type": "code",
   "execution_count": 136,
   "id": "personal-biography",
   "metadata": {},
   "outputs": [
    {
     "name": "stdout",
     "output_type": "stream",
     "text": [
      "[15:29:48] WARNING: C:/Users/Administrator/workspace/xgboost-win64_release_1.4.0/src/learner.cc:1095: Starting in XGBoost 1.3.0, the default evaluation metric used with the objective 'binary:logistic' was changed from 'error' to 'logloss'. Explicitly set eval_metric if you'd like to restore the old behavior.\n",
      "[15:29:48] WARNING: C:/Users/Administrator/workspace/xgboost-win64_release_1.4.0/src/learner.cc:1095: Starting in XGBoost 1.3.0, the default evaluation metric used with the objective 'binary:logistic' was changed from 'error' to 'logloss'. Explicitly set eval_metric if you'd like to restore the old behavior.\n",
      "[15:29:49] WARNING: C:/Users/Administrator/workspace/xgboost-win64_release_1.4.0/src/learner.cc:1095: Starting in XGBoost 1.3.0, the default evaluation metric used with the objective 'binary:logistic' was changed from 'error' to 'logloss'. Explicitly set eval_metric if you'd like to restore the old behavior.\n",
      "[15:29:49] WARNING: C:/Users/Administrator/workspace/xgboost-win64_release_1.4.0/src/learner.cc:1095: Starting in XGBoost 1.3.0, the default evaluation metric used with the objective 'binary:logistic' was changed from 'error' to 'logloss'. Explicitly set eval_metric if you'd like to restore the old behavior.\n",
      "[15:29:49] WARNING: C:/Users/Administrator/workspace/xgboost-win64_release_1.4.0/src/learner.cc:1095: Starting in XGBoost 1.3.0, the default evaluation metric used with the objective 'binary:logistic' was changed from 'error' to 'logloss'. Explicitly set eval_metric if you'd like to restore the old behavior.\n",
      "[15:29:49] WARNING: C:/Users/Administrator/workspace/xgboost-win64_release_1.4.0/src/learner.cc:1095: Starting in XGBoost 1.3.0, the default evaluation metric used with the objective 'binary:logistic' was changed from 'error' to 'logloss'. Explicitly set eval_metric if you'd like to restore the old behavior.\n",
      "[15:29:49] WARNING: C:/Users/Administrator/workspace/xgboost-win64_release_1.4.0/src/learner.cc:1095: Starting in XGBoost 1.3.0, the default evaluation metric used with the objective 'binary:logistic' was changed from 'error' to 'logloss'. Explicitly set eval_metric if you'd like to restore the old behavior.\n",
      "[15:29:49] WARNING: C:/Users/Administrator/workspace/xgboost-win64_release_1.4.0/src/learner.cc:1095: Starting in XGBoost 1.3.0, the default evaluation metric used with the objective 'binary:logistic' was changed from 'error' to 'logloss'. Explicitly set eval_metric if you'd like to restore the old behavior.\n",
      "[15:29:49] WARNING: C:/Users/Administrator/workspace/xgboost-win64_release_1.4.0/src/learner.cc:1095: Starting in XGBoost 1.3.0, the default evaluation metric used with the objective 'binary:logistic' was changed from 'error' to 'logloss'. Explicitly set eval_metric if you'd like to restore the old behavior.\n",
      "[15:29:49] WARNING: C:/Users/Administrator/workspace/xgboost-win64_release_1.4.0/src/learner.cc:1095: Starting in XGBoost 1.3.0, the default evaluation metric used with the objective 'binary:logistic' was changed from 'error' to 'logloss'. Explicitly set eval_metric if you'd like to restore the old behavior.\n",
      "scores:  [0.82222222 0.86516854 0.75280899 0.83146067 0.84269663 0.86516854\n",
      " 0.84269663 0.83146067 0.88764045 0.83146067]\n",
      "Accuracy: 83.73 %\n"
     ]
    }
   ],
   "source": [
    "scores = cross_val_score(clf, X, y, cv=10)\n",
    "print('scores: ', scores )\n",
    "print('Accuracy: {:.2f} %'.format(scores.mean() * 100))"
   ]
  },
  {
   "cell_type": "code",
   "execution_count": null,
   "id": "minimal-detective",
   "metadata": {},
   "outputs": [],
   "source": []
  }
 ],
 "metadata": {
  "kernelspec": {
   "display_name": "Python 3",
   "language": "python",
   "name": "python3"
  },
  "language_info": {
   "codemirror_mode": {
    "name": "ipython",
    "version": 3
   },
   "file_extension": ".py",
   "mimetype": "text/x-python",
   "name": "python",
   "nbconvert_exporter": "python",
   "pygments_lexer": "ipython3",
   "version": "3.9.1"
  }
 },
 "nbformat": 4,
 "nbformat_minor": 5
}
